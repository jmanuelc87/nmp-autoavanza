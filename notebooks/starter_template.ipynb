{
 "cells": [
  {
   "cell_type": "markdown",
   "id": "ac7d8535",
   "metadata": {},
   "source": [
    "<a target=\"_blank\" href=\"https://colab.research.google.com/github/jmanuelc87/nmp-autoavanza/blob/main/notebooks/initial_notebook.ipynb\">\n",
    "  <img src=\"https://colab.research.google.com/assets/colab-badge.svg\" alt=\"Open In Colab\"/>\n",
    "</a>"
   ]
  },
  {
   "cell_type": "markdown",
   "id": "8d2a9643",
   "metadata": {},
   "source": [
    "# Starter Template"
   ]
  },
  {
   "cell_type": "markdown",
   "id": "f9223489",
   "metadata": {},
   "source": []
  }
 ],
 "metadata": {
  "language_info": {
   "name": "python"
  }
 },
 "nbformat": 4,
 "nbformat_minor": 5
}
