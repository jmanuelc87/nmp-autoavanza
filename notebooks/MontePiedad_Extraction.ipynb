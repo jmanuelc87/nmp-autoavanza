{
  "cells": [
    {
      "cell_type": "markdown",
      "id": "ac7d8535",
      "metadata": {
        "id": "ac7d8535"
      },
      "source": [
        "<a target=\"_blank\" href=\"https://colab.research.google.com/github/jmanuelc87/nmp-autoavanza/blob/main/notebooks/MontePiedad_Extraction.ipynb\">\n",
        "  <img src=\"https://colab.research.google.com/assets/colab-badge.svg\" alt=\"Open In Colab\"/>\n",
        "</a>"
      ]
    },
    {
      "cell_type": "code",
      "execution_count": 21,
      "id": "DioCF2bZqjev",
      "metadata": {
        "id": "DioCF2bZqjev"
      },
      "outputs": [],
      "source": [
        "import os\n",
        "import csv\n",
        "import glob\n",
        "import json\n",
        "import math\n",
        "import torch\n",
        "import base64\n",
        "import jsonlines\n",
        "import concurrent.futures\n",
        "import threading\n",
        "import numpy as np\n",
        "import pytesseract as pyt\n",
        "import matplotlib.pyplot as plt\n",
        "\n",
        "from tqdm import tqdm\n",
        "\n",
        "from pydantic import BaseModel, Field\n",
        "\n",
        "from langchain.output_parsers.json import SimpleJsonOutputParser\n",
        "from langchain.chains import TransformChain\n",
        "from langchain_core.prompts import ChatPromptTemplate\n",
        "from langchain_openai import ChatOpenAI\n",
        "\n",
        "from langchain.chains.question_answering import load_qa_chain\n"
      ]
    },
    {
      "cell_type": "markdown",
      "id": "6ca1f999",
      "metadata": {},
      "source": [
        "## Extract Information using ChatOpenAI"
      ]
    },
    {
      "cell_type": "code",
      "execution_count": null,
      "id": "021c6778",
      "metadata": {},
      "outputs": [],
      "source": [
        "if \"OPENAI_API_KEY\" not in os.environ:\n",
        "    os.environ['OPENAI_ORG_ID'] = '***'\n",
        "    os.environ['OPENAI_PROJECT_ID'] = '***'\n",
        "    os.environ['OPENAI_API_KEY'] = '***'"
      ]
    },
    {
      "cell_type": "code",
      "execution_count": 23,
      "id": "60d05b58",
      "metadata": {},
      "outputs": [],
      "source": [
        "llm = ChatOpenAI(\n",
        "    model = \"gpt-4.1-mini\",\n",
        "    temperature=0,\n",
        "    # base_url='http://localhost:1234/v1',\n",
        ")"
      ]
    },
    {
      "cell_type": "code",
      "execution_count": 24,
      "id": "88d69d15",
      "metadata": {},
      "outputs": [],
      "source": [
        "extract = [\n",
        "    {\n",
        "        \"role\": \"system\",\n",
        "        \"content\": \"Eres un asistente lector de documentos servicial, usando OCR extraes los campos de la imagen, tus respuestas son concisas, respondes en formato json, y si no sabes el valor de un atributo retorna null para el valor del atributo\",\n",
        "    },\n",
        "    {\n",
        "        \"role\": \"user\",\n",
        "        \"content\": [\n",
        "            {\"type\": \"image_url\", \"image_url\": {\"url\": \"data:image/jpeg;base64,{image}\"}},\n",
        "        ],\n",
        "    },\n",
        "]"
      ]
    },
    {
      "cell_type": "code",
      "execution_count": 25,
      "id": "bdb93135",
      "metadata": {},
      "outputs": [],
      "source": [
        "normalize = [\n",
        "    {\n",
        "        \"role\": \"system\",\n",
        "        \"content\": \"Eres un asistente servicial, recibes una lista de objetos json y normalizas los objetos de forma que todos quedan con igual numero de atributos, tus respuestas son concisas, respondes en formato json, y si no sabes el valor de un atributo retorna null para el valor del atributo\"\n",
        "    },\n",
        "    {\n",
        "        \"role\": \"user\",\n",
        "        \"content\": [\n",
        "            {\"type\": \"text\", \"text\": \"{json_str}\"}\n",
        "        ]\n",
        "    }\n",
        "]"
      ]
    },
    {
      "cell_type": "code",
      "execution_count": 26,
      "id": "9c965164",
      "metadata": {},
      "outputs": [],
      "source": [
        "prompt_extraction = ChatPromptTemplate(messages=extract)\n",
        "prompt_normalize = ChatPromptTemplate(messages=normalize)"
      ]
    },
    {
      "cell_type": "code",
      "execution_count": 27,
      "id": "c412c834",
      "metadata": {},
      "outputs": [],
      "source": [
        "def load_image(inputs):\n",
        "    \"\"\"Load image from file and encode it as base64.\"\"\"\n",
        "    image_path = inputs[\"image_path\"]\n",
        "  \n",
        "    def encode_image(image_path):\n",
        "        with open(image_path, \"rb\") as image_file:\n",
        "            return base64.b64encode(image_file.read()).decode('utf-8')\n",
        "    image_base64 = encode_image(image_path)\n",
        "    return {\"image\": image_base64}"
      ]
    },
    {
      "cell_type": "code",
      "execution_count": 28,
      "id": "6543bcd0",
      "metadata": {},
      "outputs": [],
      "source": [
        "def dict_to_str(inputs):\n",
        "    json_str = json.dumps(inputs)\n",
        "\n",
        "    return {\"json_str\": json_str}"
      ]
    },
    {
      "cell_type": "code",
      "execution_count": 29,
      "id": "439a0dde",
      "metadata": {},
      "outputs": [],
      "source": [
        "load_image_chain = TransformChain(\n",
        "    input_variables=[\"image_path\"], output_variables=[\"image\"], transform=load_image\n",
        ")\n",
        "\n",
        "load_json_str_chain = TransformChain(\n",
        "    input_variables=[\"output\"], output_variables=[\"json_str\"], transform=dict_to_str\n",
        ")"
      ]
    },
    {
      "cell_type": "code",
      "execution_count": 30,
      "id": "7314f8c4",
      "metadata": {},
      "outputs": [],
      "source": [
        "parser = SimpleJsonOutputParser()"
      ]
    },
    {
      "cell_type": "code",
      "execution_count": 31,
      "id": "efa54f1f",
      "metadata": {},
      "outputs": [],
      "source": [
        "extract_chain = load_image_chain | prompt_extraction | llm | parser"
      ]
    },
    {
      "cell_type": "code",
      "execution_count": 32,
      "id": "eac14658",
      "metadata": {},
      "outputs": [],
      "source": [
        "normalize_chain = prompt_normalize | llm | parser"
      ]
    },
    {
      "cell_type": "code",
      "execution_count": 33,
      "id": "39b439dc",
      "metadata": {},
      "outputs": [],
      "source": [
        "image_path = \"./data/bronze/BASE_AUTOAVANZA/documentos_clean/FAC_FRENTE/Caso 1_TK 62853-1 FAC_FRENTE_otsu.jpg\""
      ]
    },
    {
      "cell_type": "code",
      "execution_count": 34,
      "id": "0b1ae6f8",
      "metadata": {},
      "outputs": [],
      "source": [
        "response1 = extract_chain.invoke(input={\"image_path\": image_path})"
      ]
    },
    {
      "cell_type": "code",
      "execution_count": 35,
      "id": "db926fa6",
      "metadata": {},
      "outputs": [
        {
          "name": "stdout",
          "output_type": "stream",
          "text": [
            "{'aduana': 'LAZARO CARDEI',\n",
            " 'capacidad': '5',\n",
            " 'celular_cliente': '3414145112',\n",
            " 'clase': 'CAMIONETA',\n",
            " 'clave_producto': '25101500',\n",
            " 'clave_unidad': 'C62',\n",
            " 'clave_vehicular': '1520601',\n",
            " 'cliente': 'RODRIGUEZ ELIZONDO FRANCISCO',\n",
            " 'codigo_postal': '49600',\n",
            " 'combustible': 'GASOLINA',\n",
            " 'condiciones_pago': 'TFS',\n",
            " 'descripcion': 'UN VEHICULO NUEVO 7495 TOYOTA HILUX DOB CAB SR MODELO 2019 '\n",
            "                'MOTOR: 2.7 LTS. TRANSMISION: MANUAL ORIGEN: IMPORTADA PEDIDO: '\n",
            "                '314 COLOR EXT. PLATA COLOR INT. NEGRO HILUX DOBLE CABINA SR, '\n",
            "                'TRANSMISION MANUAL DE 5 VELOCIDADES, CAP CARGA 820 KG, MOTOR '\n",
            "                '4 CILINDROS, VVT-I DUAL, 2.7 LTS, 166 HP, 16 VALVULAS, RINES '\n",
            "                'DE ALUMINIO DE 17\", AIRE ACONDICIONADO MANUAL, VESTIDURAS EN '\n",
            "                'TELA, FAROS DE NIEBLA, SISTEMA DE AUDIO RADIO AM/FM/CD/BT/USB '\n",
            "                'CON CAPACIDAD PARA LEER MP3 Y WMA; MINIJACK CON 4 BOCINAS, '\n",
            "                'BOLSAS DE AIRE FRONTALES DE MULTIPLE ETAPA PARA CONDUCTOR Y '\n",
            "                'ACOMPAÑANTE Y DE RODILLAS PARA CONDUCTOR',\n",
            " 'direccion_cliente': 'HIDALGO PONIENTE 473, ZAPOTILTIC CENTRO, ZAPOTILTIC, '\n",
            "                      'JALISCO, MEXICO',\n",
            " 'factura': 'GFU000000343',\n",
            " 'fecha': '2019-10-01T17:39:5',\n",
            " 'fecha_aduana': '07/06/2019',\n",
            " 'fecha_timbrado_cfdi': '2019-10-01T17:40:19',\n",
            " 'forma_pago': '99',\n",
            " 'importe': '$325,517.24',\n",
            " 'iva': '$52,082.76',\n",
            " 'linea': 'HILUX',\n",
            " 'marca': 'TOYOTA',\n",
            " 'metodo_pago': 'PPD PAGO EN PARCIALIDADES O DIFERIDO',\n",
            " 'modelo': '2019',\n",
            " 'motor': '2TRA601886',\n",
            " 'numero_certificado_sat': '00001000000405428713',\n",
            " 'numero_cilindros': '4',\n",
            " 'numero_inventario': '24108',\n",
            " 'numero_pedimento_importacion': '195137889002692',\n",
            " 'numero_puertas': '4',\n",
            " 'numero_serie': 'MROEX8DD2K0186450',\n",
            " 'numero_serie_certificado_sello_digital': '00001000000404458636',\n",
            " 'procedencia': 'TOYOTA TAILANDIA',\n",
            " 'regimen_fiscal': '601',\n",
            " 'rfc': 'ROEF-690604-6G3',\n",
            " 'telefono_cliente': '4145112',\n",
            " 'tipo': 'HILUX DOB CAB SR',\n",
            " 'total': '$377,600.00',\n",
            " 'unidad_medida': 'UNIDAD',\n",
            " 'uso_cfdi': 'P01',\n",
            " 'uuid': '9db61f33-ae29-4867-81fa-c0fa56568bb5',\n",
            " 'uuid_folio': 'GRC000001617',\n",
            " 'uuid_timbre_cfdi': 'f130dace-3b7f-4d60-87c2-0050663b00ec'}\n"
          ]
        }
      ],
      "source": [
        "import pprint\n",
        "\n",
        "pprint.pprint(response1)"
      ]
    },
    {
      "cell_type": "code",
      "execution_count": 36,
      "id": "2652a09e",
      "metadata": {},
      "outputs": [],
      "source": [
        "image_path = \"./data/bronze/BASE_AUTOAVANZA/documentos_clean/FAC_FRENTE/Caso 2_TK 63075-1 FAC_FRENTE_otsu.jpg\""
      ]
    },
    {
      "cell_type": "code",
      "execution_count": 37,
      "id": "11c8eee5",
      "metadata": {},
      "outputs": [],
      "source": [
        "response2 = extract_chain.invoke(input={\"image_path\": image_path})"
      ]
    },
    {
      "cell_type": "code",
      "execution_count": 38,
      "id": "db654fcc",
      "metadata": {},
      "outputs": [
        {
          "name": "stdout",
          "output_type": "stream",
          "text": [
            "{'Conceptos': [{'Cantidad': 1,\n",
            "                'ClaveUnidad': 'XVN',\n",
            "                'ClaveVehicular': '0981407',\n",
            "                'CodigoSAT': '25101500',\n",
            "                'Descripcion': 'AUTO NUEVO MGMARCA MG ZS SUV COM EXC VERSION '\n",
            "                               '1.5L COM EXCITE AT, 1.5 LTS., AUTOMATICO, 4 '\n",
            "                               'CIL. &10;DISTRIBUIDOR MG SENDERO &10, COLOR '\n",
            "                               'EXTERIOR AZUL LASER COLOR INTERIOR NEGRO &10, '\n",
            "                               'COLOR INTERIOR',\n",
            "                'Descuento': 0.0,\n",
            "                'Importe': 366293.1,\n",
            "                'Impuestos': {'IVA': 58606.9},\n",
            "                'Pedimento': '22 51 1669 2005344',\n",
            "                'ValorUnitario': 366293.1,\n",
            "                'Version': '1.1'}],\n",
            " 'CondicionesPago': {'CondicionesPago': 'CONTADO',\n",
            "                     'FormaPago': '03 - Transferencia electrónica de fondos',\n",
            "                     'MetodoPago': 'PPD - Pago en parcialidades o diferido'},\n",
            " 'Emisor': {'Domicilio': 'AV. UNIVERSIDAD 1005, CENTRO, SAN NICOLAS DE LOS '\n",
            "                         'GARZA, NUEVO LEON, MEXICO, 66428',\n",
            "            'Nombre': 'FUERZAUTO SENDERO SA. DE CV.',\n",
            "            'RFC': 'FSE200622I75',\n",
            "            'Regimen': '601 Régimen General de Ley Personas Morales'},\n",
            " 'Factura': {'FechaHoraEmision': '2022-10-13T18:01:00',\n",
            "             'Folio': 'VN 2149',\n",
            "             'LugarExpedicion': '66428',\n",
            "             'TipoRelacion': '07 - CFDI por aplicación de anticipo',\n",
            "             'UUID': '1-279496f4-478-4b7e-bd46-5b9d55678b23'},\n",
            " 'Observaciones': 'ESTA UNIDAD FUE IMPORTADA POR PED. No.-225116692005344 '\n",
            "                  'FEC.-2022-09-21 POR LA ADUANA DE LAZARO CARDENAS, '\n",
            "                  'MICHOACAN.',\n",
            " 'Receptor': {'Domicilio': 'CEREZO 632, Col. RESID EBANOS 5TO SECTOR, APODACA, '\n",
            "                           'NUEVO LEON, Mexico, C.P.: 66612',\n",
            "              'Nombre': 'MARTHA ELENA ESCALANTE LIZCANO',\n",
            "              'RFC': 'XAXX010101000',\n",
            "              'UsoCFDI': 'P01 - Por definir'},\n",
            " 'TimbreFiscal': {'FechaHoraCertificacion': '13/10/2022 18:01:34',\n",
            "                  'FolioFiscal': '7dc88c8a-4fbd-4b4c-8125-a2865fc30a32',\n",
            "                  'NoCertificadoSAT': '00001000000414211380',\n",
            "                  'RFC_PAC': 'SNF171020F3A'},\n",
            " 'Totales': {'Descuento': 0.0,\n",
            "             'IVA': 58606.9,\n",
            "             'SubTotal': 366293.1,\n",
            "             'Total': 424900.0,\n",
            "             'TotalLetra': 'CUATROCIENTOS VEINTICUATRO MIL NOVECIENTOS PESOS '\n",
            "                           '00/100 M.N.'},\n",
            " 'Vehiculo': {'Capacidad': 5,\n",
            "              'Clase': 'ZS4',\n",
            "              'ClaveVehicular': '0981407',\n",
            "              'Combustible': 'GASOLINA',\n",
            "              'Linea': 'MGZS 1.5L COM EXCITE AT',\n",
            "              'Marca': 'MG',\n",
            "              'Modelo': 2022,\n",
            "              'NoCilindros': 4,\n",
            "              'NoMotor': '15S4C8FGN4030653',\n",
            "              'NoPuertas': 5,\n",
            "              'NoSerie': 'LSJW74U94NZ186987',\n",
            "              'RegistroFederalVehiculos': '5FJ5P9FF',\n",
            "              'Tipo': 'MGZS 1.5L COM EXCITE AT'}}\n"
          ]
        }
      ],
      "source": [
        "import pprint\n",
        "\n",
        "pprint.pprint(response2)"
      ]
    },
    {
      "cell_type": "code",
      "execution_count": 39,
      "id": "7308df93",
      "metadata": {},
      "outputs": [
        {
          "data": {
            "text/plain": [
              "'[{\"cliente\": \"RODRIGUEZ ELIZONDO FRANCISCO\", \"direccion_cliente\": \"HIDALGO PONIENTE 473, ZAPOTILTIC CENTRO, ZAPOTILTIC, JALISCO, MEXICO\", \"telefono_cliente\": \"4145112\", \"celular_cliente\": \"3414145112\", \"codigo_postal\": \"49600\", \"factura\": \"GFU000000343\", \"fecha\": \"2019-10-01T17:39:5\", \"rfc\": \"ROEF-690604-6G3\", \"numero_inventario\": \"24108\", \"numero_serie\": \"MROEX8DD2K0186450\", \"condiciones_pago\": \"TFS\", \"procedencia\": \"TOYOTA TAILANDIA\", \"numero_pedimento_importacion\": \"195137889002692\", \"marca\": \"TOYOTA\", \"linea\": \"HILUX\", \"modelo\": \"2019\", \"clase\": \"CAMIONETA\", \"tipo\": \"HILUX DOB CAB SR\", \"clave_vehicular\": \"1520601\", \"numero_puertas\": \"4\", \"numero_cilindros\": \"4\", \"capacidad\": \"5\", \"combustible\": \"GASOLINA\", \"motor\": \"2TRA601886\", \"aduana\": \"LAZARO CARDEI\", \"fecha_aduana\": \"07/06/2019\", \"descripcion\": \"UN VEHICULO NUEVO 7495 TOYOTA HILUX DOB CAB SR MODELO 2019 MOTOR: 2.7 LTS. TRANSMISION: MANUAL ORIGEN: IMPORTADA PEDIDO: 314 COLOR EXT. PLATA COLOR INT. NEGRO HILUX DOBLE CABINA SR, TRANSMISION MANUAL DE 5 VELOCIDADES, CAP CARGA 820 KG, MOTOR 4 CILINDROS, VVT-I DUAL, 2.7 LTS, 166 HP, 16 VALVULAS, RINES DE ALUMINIO DE 17\\\\\", AIRE ACONDICIONADO MANUAL, VESTIDURAS EN TELA, FAROS DE NIEBLA, SISTEMA DE AUDIO RADIO AM/FM/CD/BT/USB CON CAPACIDAD PARA LEER MP3 Y WMA; MINIJACK CON 4 BOCINAS, BOLSAS DE AIRE FRONTALES DE MULTIPLE ETAPA PARA CONDUCTOR Y ACOMPA\\\\u00d1ANTE Y DE RODILLAS PARA CONDUCTOR\", \"importe\": \"$325,517.24\", \"iva\": \"$52,082.76\", \"total\": \"$377,600.00\", \"uso_cfdi\": \"P01\", \"metodo_pago\": \"PPD PAGO EN PARCIALIDADES O DIFERIDO\", \"forma_pago\": \"99\", \"clave_producto\": \"25101500\", \"unidad_medida\": \"UNIDAD\", \"clave_unidad\": \"C62\", \"uuid_folio\": \"GRC000001617\", \"uuid\": \"9db61f33-ae29-4867-81fa-c0fa56568bb5\", \"numero_serie_certificado_sello_digital\": \"00001000000404458636\", \"fecha_timbrado_cfdi\": \"2019-10-01T17:40:19\", \"numero_certificado_sat\": \"00001000000405428713\", \"uuid_timbre_cfdi\": \"f130dace-3b7f-4d60-87c2-0050663b00ec\", \"regimen_fiscal\": \"601\"}, {\"Emisor\": {\"Nombre\": \"FUERZAUTO SENDERO SA. DE CV.\", \"RFC\": \"FSE200622I75\", \"Domicilio\": \"AV. UNIVERSIDAD 1005, CENTRO, SAN NICOLAS DE LOS GARZA, NUEVO LEON, MEXICO, 66428\", \"Regimen\": \"601 R\\\\u00e9gimen General de Ley Personas Morales\"}, \"Factura\": {\"Folio\": \"VN 2149\", \"FechaHoraEmision\": \"2022-10-13T18:01:00\", \"LugarExpedicion\": \"66428\", \"TipoRelacion\": \"07 - CFDI por aplicaci\\\\u00f3n de anticipo\", \"UUID\": \"1-279496f4-478-4b7e-bd46-5b9d55678b23\"}, \"Receptor\": {\"Nombre\": \"MARTHA ELENA ESCALANTE LIZCANO\", \"RFC\": \"XAXX010101000\", \"Domicilio\": \"CEREZO 632, Col. RESID EBANOS 5TO SECTOR, APODACA, NUEVO LEON, Mexico, C.P.: 66612\", \"UsoCFDI\": \"P01 - Por definir\"}, \"CondicionesPago\": {\"MetodoPago\": \"PPD - Pago en parcialidades o diferido\", \"FormaPago\": \"03 - Transferencia electr\\\\u00f3nica de fondos\", \"CondicionesPago\": \"CONTADO\"}, \"Conceptos\": [{\"Descripcion\": \"AUTO NUEVO MGMARCA MG ZS SUV COM EXC VERSION 1.5L COM EXCITE AT, 1.5 LTS., AUTOMATICO, 4 CIL. &10;DISTRIBUIDOR MG SENDERO &10, COLOR EXTERIOR AZUL LASER COLOR INTERIOR NEGRO &10, COLOR INTERIOR\", \"Cantidad\": 1, \"ClaveUnidad\": \"XVN\", \"ValorUnitario\": 366293.1, \"Importe\": 366293.1, \"Descuento\": 0.0, \"Impuestos\": {\"IVA\": 58606.9}, \"CodigoSAT\": \"25101500\", \"Pedimento\": \"22 51 1669 2005344\", \"Version\": \"1.1\", \"ClaveVehicular\": \"0981407\"}], \"Vehiculo\": {\"Marca\": \"MG\", \"Linea\": \"MGZS 1.5L COM EXCITE AT\", \"Modelo\": 2022, \"Clase\": \"ZS4\", \"Tipo\": \"MGZS 1.5L COM EXCITE AT\", \"ClaveVehicular\": \"0981407\", \"NoCilindros\": 4, \"NoPuertas\": 5, \"Capacidad\": 5, \"Combustible\": \"GASOLINA\", \"NoSerie\": \"LSJW74U94NZ186987\", \"NoMotor\": \"15S4C8FGN4030653\", \"RegistroFederalVehiculos\": \"5FJ5P9FF\"}, \"Totales\": {\"SubTotal\": 366293.1, \"IVA\": 58606.9, \"Descuento\": 0.0, \"Total\": 424900.0, \"TotalLetra\": \"CUATROCIENTOS VEINTICUATRO MIL NOVECIENTOS PESOS 00/100 M.N.\"}, \"Observaciones\": \"ESTA UNIDAD FUE IMPORTADA POR PED. No.-225116692005344 FEC.-2022-09-21 POR LA ADUANA DE LAZARO CARDENAS, MICHOACAN.\", \"TimbreFiscal\": {\"RFC_PAC\": \"SNF171020F3A\", \"FolioFiscal\": \"7dc88c8a-4fbd-4b4c-8125-a2865fc30a32\", \"NoCertificadoSAT\": \"00001000000414211380\", \"FechaHoraCertificacion\": \"13/10/2022 18:01:34\"}}]'"
            ]
          },
          "execution_count": 39,
          "metadata": {},
          "output_type": "execute_result"
        }
      ],
      "source": [
        "result = json.dumps([response1, response2])\n",
        "result"
      ]
    },
    {
      "cell_type": "code",
      "execution_count": 40,
      "id": "d1782932",
      "metadata": {},
      "outputs": [],
      "source": [
        "response = normalize_chain.invoke(input={\"json_str\": result})"
      ]
    },
    {
      "cell_type": "code",
      "execution_count": 41,
      "id": "25363ef5",
      "metadata": {},
      "outputs": [
        {
          "name": "stdout",
          "output_type": "stream",
          "text": [
            "[{'Conceptos': None,\n",
            "  'CondicionesPago_CondicionesPago': None,\n",
            "  'CondicionesPago_FormaPago': None,\n",
            "  'CondicionesPago_MetodoPago': None,\n",
            "  'Emisor_Domicilio': None,\n",
            "  'Emisor_Nombre': None,\n",
            "  'Emisor_RFC': None,\n",
            "  'Emisor_Regimen': None,\n",
            "  'Factura_FechaHoraEmision': None,\n",
            "  'Factura_Folio': None,\n",
            "  'Factura_LugarExpedicion': None,\n",
            "  'Factura_TipoRelacion': None,\n",
            "  'Factura_UUID': None,\n",
            "  'Observaciones': None,\n",
            "  'Receptor_Domicilio': None,\n",
            "  'Receptor_Nombre': None,\n",
            "  'Receptor_RFC': None,\n",
            "  'Receptor_UsoCFDI': None,\n",
            "  'TimbreFiscal_FechaHoraCertificacion': None,\n",
            "  'TimbreFiscal_FolioFiscal': None,\n",
            "  'TimbreFiscal_NoCertificadoSAT': None,\n",
            "  'TimbreFiscal_RFC_PAC': None,\n",
            "  'Totales_Descuento': None,\n",
            "  'Totales_IVA': None,\n",
            "  'Totales_SubTotal': None,\n",
            "  'Totales_Total': None,\n",
            "  'Totales_TotalLetra': None,\n",
            "  'Vehiculo_Capacidad': None,\n",
            "  'Vehiculo_Clase': None,\n",
            "  'Vehiculo_ClaveVehicular': None,\n",
            "  'Vehiculo_Combustible': None,\n",
            "  'Vehiculo_Linea': None,\n",
            "  'Vehiculo_Marca': None,\n",
            "  'Vehiculo_Modelo': None,\n",
            "  'Vehiculo_NoCilindros': None,\n",
            "  'Vehiculo_NoMotor': None,\n",
            "  'Vehiculo_NoPuertas': None,\n",
            "  'Vehiculo_NoSerie': None,\n",
            "  'Vehiculo_RegistroFederalVehiculos': None,\n",
            "  'Vehiculo_Tipo': None,\n",
            "  'aduana': 'LAZARO CARDEI',\n",
            "  'capacidad': '5',\n",
            "  'celular_cliente': '3414145112',\n",
            "  'clase': 'CAMIONETA',\n",
            "  'clave_producto': '25101500',\n",
            "  'clave_unidad': 'C62',\n",
            "  'clave_vehicular': '1520601',\n",
            "  'cliente': 'RODRIGUEZ ELIZONDO FRANCISCO',\n",
            "  'codigo_postal': '49600',\n",
            "  'combustible': 'GASOLINA',\n",
            "  'condiciones_pago': 'TFS',\n",
            "  'descripcion': 'UN VEHICULO NUEVO 7495 TOYOTA HILUX DOB CAB SR MODELO 2019 '\n",
            "                 'MOTOR: 2.7 LTS. TRANSMISION: MANUAL ORIGEN: IMPORTADA '\n",
            "                 'PEDIDO: 314 COLOR EXT. PLATA COLOR INT. NEGRO HILUX DOBLE '\n",
            "                 'CABINA SR, TRANSMISION MANUAL DE 5 VELOCIDADES, CAP CARGA '\n",
            "                 '820 KG, MOTOR 4 CILINDROS, VVT-I DUAL, 2.7 LTS, 166 HP, 16 '\n",
            "                 'VALVULAS, RINES DE ALUMINIO DE 17\", AIRE ACONDICIONADO '\n",
            "                 'MANUAL, VESTIDURAS EN TELA, FAROS DE NIEBLA, SISTEMA DE '\n",
            "                 'AUDIO RADIO AM/FM/CD/BT/USB CON CAPACIDAD PARA LEER MP3 Y '\n",
            "                 'WMA; MINIJACK CON 4 BOCINAS, BOLSAS DE AIRE FRONTALES DE '\n",
            "                 'MULTIPLE ETAPA PARA CONDUCTOR Y ACOMPAÑANTE Y DE RODILLAS '\n",
            "                 'PARA CONDUCTOR',\n",
            "  'direccion_cliente': 'HIDALGO PONIENTE 473, ZAPOTILTIC CENTRO, ZAPOTILTIC, '\n",
            "                       'JALISCO, MEXICO',\n",
            "  'factura': 'GFU000000343',\n",
            "  'fecha': '2019-10-01T17:39:5',\n",
            "  'fecha_aduana': '07/06/2019',\n",
            "  'fecha_timbrado_cfdi': '2019-10-01T17:40:19',\n",
            "  'forma_pago': '99',\n",
            "  'importe': '$325,517.24',\n",
            "  'iva': '$52,082.76',\n",
            "  'linea': 'HILUX',\n",
            "  'marca': 'TOYOTA',\n",
            "  'metodo_pago': 'PPD PAGO EN PARCIALIDADES O DIFERIDO',\n",
            "  'modelo': '2019',\n",
            "  'motor': '2TRA601886',\n",
            "  'numero_certificado_sat': '00001000000405428713',\n",
            "  'numero_cilindros': '4',\n",
            "  'numero_inventario': '24108',\n",
            "  'numero_pedimento_importacion': '195137889002692',\n",
            "  'numero_puertas': '4',\n",
            "  'numero_serie': 'MROEX8DD2K0186450',\n",
            "  'numero_serie_certificado_sello_digital': '00001000000404458636',\n",
            "  'procedencia': 'TOYOTA TAILANDIA',\n",
            "  'regimen_fiscal': '601',\n",
            "  'rfc': 'ROEF-690604-6G3',\n",
            "  'telefono_cliente': '4145112',\n",
            "  'tipo': 'HILUX DOB CAB SR',\n",
            "  'total': '$377,600.00',\n",
            "  'unidad_medida': 'UNIDAD',\n",
            "  'uso_cfdi': 'P01',\n",
            "  'uuid': '9db61f33-ae29-4867-81fa-c0fa56568bb5',\n",
            "  'uuid_folio': 'GRC000001617',\n",
            "  'uuid_timbre_cfdi': 'f130dace-3b7f-4d60-87c2-0050663b00ec'},\n",
            " {'Conceptos': [{'Cantidad': 1,\n",
            "                 'ClaveUnidad': 'XVN',\n",
            "                 'ClaveVehicular': '0981407',\n",
            "                 'CodigoSAT': '25101500',\n",
            "                 'Descripcion': 'AUTO NUEVO MGMARCA MG ZS SUV COM EXC VERSION '\n",
            "                                '1.5L COM EXCITE AT, 1.5 LTS., AUTOMATICO, 4 '\n",
            "                                'CIL. &10;DISTRIBUIDOR MG SENDERO &10, COLOR '\n",
            "                                'EXTERIOR AZUL LASER COLOR INTERIOR NEGRO &10, '\n",
            "                                'COLOR INTERIOR',\n",
            "                 'Descuento': 0.0,\n",
            "                 'Importe': 366293.1,\n",
            "                 'Impuestos': {'IVA': 58606.9},\n",
            "                 'Pedimento': '22 51 1669 2005344',\n",
            "                 'ValorUnitario': 366293.1,\n",
            "                 'Version': '1.1'}],\n",
            "  'CondicionesPago_CondicionesPago': 'CONTADO',\n",
            "  'CondicionesPago_FormaPago': '03 - Transferencia electrónica de fondos',\n",
            "  'CondicionesPago_MetodoPago': 'PPD - Pago en parcialidades o diferido',\n",
            "  'Emisor_Domicilio': 'AV. UNIVERSIDAD 1005, CENTRO, SAN NICOLAS DE LOS GARZA, '\n",
            "                      'NUEVO LEON, MEXICO, 66428',\n",
            "  'Emisor_Nombre': 'FUERZAUTO SENDERO SA. DE CV.',\n",
            "  'Emisor_RFC': 'FSE200622I75',\n",
            "  'Emisor_Regimen': '601 Régimen General de Ley Personas Morales',\n",
            "  'Factura_FechaHoraEmision': '2022-10-13T18:01:00',\n",
            "  'Factura_Folio': 'VN 2149',\n",
            "  'Factura_LugarExpedicion': '66428',\n",
            "  'Factura_TipoRelacion': '07 - CFDI por aplicación de anticipo',\n",
            "  'Factura_UUID': '1-279496f4-478-4b7e-bd46-5b9d55678b23',\n",
            "  'Observaciones': 'ESTA UNIDAD FUE IMPORTADA POR PED. No.-225116692005344 '\n",
            "                   'FEC.-2022-09-21 POR LA ADUANA DE LAZARO CARDENAS, '\n",
            "                   'MICHOACAN.',\n",
            "  'Receptor_Domicilio': 'CEREZO 632, Col. RESID EBANOS 5TO SECTOR, APODACA, '\n",
            "                        'NUEVO LEON, Mexico, C.P.: 66612',\n",
            "  'Receptor_Nombre': 'MARTHA ELENA ESCALANTE LIZCANO',\n",
            "  'Receptor_RFC': 'XAXX010101000',\n",
            "  'Receptor_UsoCFDI': 'P01 - Por definir',\n",
            "  'TimbreFiscal_FechaHoraCertificacion': '13/10/2022 18:01:34',\n",
            "  'TimbreFiscal_FolioFiscal': '7dc88c8a-4fbd-4b4c-8125-a2865fc30a32',\n",
            "  'TimbreFiscal_NoCertificadoSAT': '00001000000414211380',\n",
            "  'TimbreFiscal_RFC_PAC': 'SNF171020F3A',\n",
            "  'Totales_Descuento': 0.0,\n",
            "  'Totales_IVA': 58606.9,\n",
            "  'Totales_SubTotal': 366293.1,\n",
            "  'Totales_Total': 424900.0,\n",
            "  'Totales_TotalLetra': 'CUATROCIENTOS VEINTICUATRO MIL NOVECIENTOS PESOS '\n",
            "                        '00/100 M.N.',\n",
            "  'Vehiculo_Capacidad': 5,\n",
            "  'Vehiculo_Clase': 'ZS4',\n",
            "  'Vehiculo_ClaveVehicular': '0981407',\n",
            "  'Vehiculo_Combustible': 'GASOLINA',\n",
            "  'Vehiculo_Linea': 'MGZS 1.5L COM EXCITE AT',\n",
            "  'Vehiculo_Marca': 'MG',\n",
            "  'Vehiculo_Modelo': 2022,\n",
            "  'Vehiculo_NoCilindros': 4,\n",
            "  'Vehiculo_NoMotor': '15S4C8FGN4030653',\n",
            "  'Vehiculo_NoPuertas': 5,\n",
            "  'Vehiculo_NoSerie': 'LSJW74U94NZ186987',\n",
            "  'Vehiculo_RegistroFederalVehiculos': '5FJ5P9FF',\n",
            "  'Vehiculo_Tipo': 'MGZS 1.5L COM EXCITE AT',\n",
            "  'aduana': None,\n",
            "  'capacidad': None,\n",
            "  'celular_cliente': None,\n",
            "  'clase': None,\n",
            "  'clave_producto': None,\n",
            "  'clave_unidad': None,\n",
            "  'clave_vehicular': None,\n",
            "  'cliente': None,\n",
            "  'codigo_postal': None,\n",
            "  'combustible': None,\n",
            "  'condiciones_pago': None,\n",
            "  'descripcion': None,\n",
            "  'direccion_cliente': None,\n",
            "  'factura': None,\n",
            "  'fecha': None,\n",
            "  'fecha_aduana': None,\n",
            "  'fecha_timbrado_cfdi': None,\n",
            "  'forma_pago': None,\n",
            "  'importe': None,\n",
            "  'iva': None,\n",
            "  'linea': None,\n",
            "  'marca': None,\n",
            "  'metodo_pago': None,\n",
            "  'modelo': None,\n",
            "  'motor': None,\n",
            "  'numero_certificado_sat': None,\n",
            "  'numero_cilindros': None,\n",
            "  'numero_inventario': None,\n",
            "  'numero_pedimento_importacion': None,\n",
            "  'numero_puertas': None,\n",
            "  'numero_serie': None,\n",
            "  'numero_serie_certificado_sello_digital': None,\n",
            "  'procedencia': None,\n",
            "  'regimen_fiscal': None,\n",
            "  'rfc': None,\n",
            "  'telefono_cliente': None,\n",
            "  'tipo': None,\n",
            "  'total': None,\n",
            "  'unidad_medida': None,\n",
            "  'uso_cfdi': None,\n",
            "  'uuid': None,\n",
            "  'uuid_folio': None,\n",
            "  'uuid_timbre_cfdi': None}]\n"
          ]
        }
      ],
      "source": [
        "import pprint\n",
        "\n",
        "pprint.pprint(response)"
      ]
    },
    {
      "cell_type": "code",
      "execution_count": 42,
      "id": "3f5df1ea",
      "metadata": {},
      "outputs": [],
      "source": [
        "csv_file = \"./data/bronze/documents/vehicles.jsonl\"\n",
        "invoices = glob.glob(\"./data/bronze/BASE_AUTOAVANZA/documentos_clean/FAC_FRENTE/*_otsu.jpg\")"
      ]
    },
    {
      "cell_type": "code",
      "execution_count": 45,
      "id": "02933dd7",
      "metadata": {},
      "outputs": [],
      "source": [
        "def extract_documents(documents, out_file, chain_extraction, chain_normalize, max_workers=3):\n",
        "    t = tqdm(total=len(documents))\n",
        "\n",
        "    def process_document(doc):\n",
        "        response = chain_extraction.invoke(input={\"image_path\": doc})\n",
        "        t.update()\n",
        "        return response\n",
        "\n",
        "    def write_document(data):\n",
        "        try:\n",
        "            with jsonlines.open(out_file, mode='a') as writer:\n",
        "                writer.write_all(data)\n",
        "        except Exception as e:\n",
        "            print(f\"Error {e} in {data}\")\n",
        "\n",
        "    result_list = []\n",
        "\n",
        "    with concurrent.futures.ThreadPoolExecutor(max_workers=max_workers) as executor:\n",
        "        while len(documents) > 0:\n",
        "            doc = documents.pop()\n",
        "            future = executor.submit(process_document, doc)\n",
        "            result_list.append(future.result())\n",
        "\n",
        "    result = chain_normalize.invoke(input={\"json_str\": json.dumps(result_list)})\n",
        "    write_document(result)"
      ]
    },
    {
      "cell_type": "code",
      "execution_count": 44,
      "id": "38636c69",
      "metadata": {},
      "outputs": [
        {
          "name": "stderr",
          "output_type": "stream",
          "text": [
            "100%|██████████| 37/37 [15:56<00:00, 25.86s/it]\n"
          ]
        }
      ],
      "source": [
        "extract_documents(invoices, csv_file, extract_chain, normalize_chain)"
      ]
    },
    {
      "cell_type": "code",
      "execution_count": 46,
      "id": "8e3c50ba",
      "metadata": {},
      "outputs": [],
      "source": [
        "csv_file = \"./data/bronze/documents/credenciales.jsonl\"\n",
        "personal_ids = glob.glob(\"./data/bronze/BASE_AUTOAVANZA/documentos_clean/INE_FRENTE/*_adaptativo.jpg\")"
      ]
    },
    {
      "cell_type": "code",
      "execution_count": 47,
      "id": "372de964",
      "metadata": {},
      "outputs": [
        {
          "name": "stderr",
          "output_type": "stream",
          "text": [
            "100%|██████████| 36/36 [09:26<00:00, 15.73s/it]\n"
          ]
        }
      ],
      "source": [
        "extract_documents(personal_ids, csv_file, extract_chain, normalize_chain)"
      ]
    },
    {
      "cell_type": "code",
      "execution_count": 49,
      "id": "f4d355ff",
      "metadata": {},
      "outputs": [],
      "source": [
        "csv_file = \"./data/bronze/documents/tarjetas_circulacion.jsonl\"\n",
        "tcs = glob.glob(\"./data/bronze/BASE_AUTOAVANZA/documentos_clean/TC_FRENTE/*_adaptativo.jpg\")"
      ]
    },
    {
      "cell_type": "code",
      "execution_count": 50,
      "id": "6df4aec5",
      "metadata": {},
      "outputs": [
        {
          "name": "stderr",
          "output_type": "stream",
          "text": [
            "100%|██████████| 35/35 [13:17<00:00, 22.79s/it]\n"
          ]
        }
      ],
      "source": [
        "extract_documents(tcs, csv_file, extract_chain, normalize_chain)"
      ]
    }
  ],
  "metadata": {
    "colab": {
      "provenance": []
    },
    "kernelspec": {
      "display_name": ".venv",
      "language": "python",
      "name": "python3"
    },
    "language_info": {
      "codemirror_mode": {
        "name": "ipython",
        "version": 3
      },
      "file_extension": ".py",
      "mimetype": "text/x-python",
      "name": "python",
      "nbconvert_exporter": "python",
      "pygments_lexer": "ipython3",
      "version": "3.10.16"
    }
  },
  "nbformat": 4,
  "nbformat_minor": 5
}
