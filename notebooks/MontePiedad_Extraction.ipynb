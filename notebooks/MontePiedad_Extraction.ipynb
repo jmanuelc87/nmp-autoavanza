{
  "cells": [
    {
      "cell_type": "markdown",
      "id": "ac7d8535",
      "metadata": {
        "id": "ac7d8535"
      },
      "source": [
        "<a target=\"_blank\" href=\"https://colab.research.google.com/github/jmanuelc87/nmp-autoavanza/blob/main/notebooks/MontePiedad_Extraction.ipynb\">\n",
        "  <img src=\"https://colab.research.google.com/assets/colab-badge.svg\" alt=\"Open In Colab\"/>\n",
        "</a>"
      ]
    },
    {
      "cell_type": "code",
      "execution_count": 1,
      "id": "DioCF2bZqjev",
      "metadata": {
        "id": "DioCF2bZqjev"
      },
      "outputs": [],
      "source": [
        "import os\n",
        "import csv\n",
        "import glob\n",
        "import json\n",
        "import math\n",
        "import torch\n",
        "import base64\n",
        "import concurrent.futures\n",
        "import threading\n",
        "import numpy as np\n",
        "import pytesseract as pyt\n",
        "import matplotlib.pyplot as plt\n",
        "\n",
        "from tqdm import tqdm\n",
        "\n",
        "from pydantic import BaseModel, Field\n",
        "\n",
        "from langchain.output_parsers import PydanticOutputParser\n",
        "from langchain.chains import TransformChain\n",
        "from langchain_core.prompts import ChatPromptTemplate\n",
        "from langchain_openai import ChatOpenAI"
      ]
    },
    {
      "cell_type": "markdown",
      "id": "6ca1f999",
      "metadata": {},
      "source": [
        "## Extract Information using ChatOpenAI"
      ]
    },
    {
      "cell_type": "code",
      "execution_count": 2,
      "id": "021c6778",
      "metadata": {},
      "outputs": [],
      "source": [
        "if \"OPENAI_API_KEY\" not in os.environ:\n",
        "    os.environ['OPENAI_ORG_ID'] = '***'\n",
        "    os.environ['OPENAI_PROJECT_ID'] = '***'\n",
        "    os.environ['OPENAI_API_KEY'] = '***'"
      ]
    },
    {
      "cell_type": "code",
      "execution_count": 3,
      "id": "60d05b58",
      "metadata": {},
      "outputs": [],
      "source": [
        "llm = ChatOpenAI(\n",
        "    model = \"*\",\n",
        "    temperature=0,\n",
        "    base_url='https://8000-01jv65ke6030mp4ecew7n9dppy.cloudspaces.litng.ai/v1',\n",
        ")"
      ]
    },
    {
      "cell_type": "code",
      "execution_count": 4,
      "id": "88d69d15",
      "metadata": {},
      "outputs": [],
      "source": [
        "messages = [\n",
        "    {\n",
        "        \"role\": \"system\",\n",
        "        \"content\": \"Eres un asistente lector de documentos servicial, tus respuestas son concisas y usando OCR extraes los campos de la imagen.\",\n",
        "    },\n",
        "    {\n",
        "        \"role\": \"user\",\n",
        "        \"content\": [\n",
        "            {\"type\": \"image_url\", \"image_url\": {\"url\": \"data:image/jpeg;base64,{image}\"}},\n",
        "        ],\n",
        "    },\n",
        "]"
      ]
    },
    {
      "cell_type": "code",
      "execution_count": 5,
      "id": "32c6787e",
      "metadata": {},
      "outputs": [],
      "source": [
        "class Factura(BaseModel):\n",
        "    cliente: str = Field(description=\"El nombre del cliente en la factura\")\n",
        "    fecha: str = Field(description=\"La fecha de la factura\")\n",
        "    rfc: str = Field(description=\"registro federal de contribuyentes RFC\")\n",
        "    marca: str = Field(description=\"La marca del vehiculo\")\n",
        "    modelo: str = Field(description=\"El modelo del vehiculo\")\n",
        "    clase: str = Field(description=\"La clase del vehiculo\")\n",
        "    tipo: str = Field(description=\"El tipo del vehiculo\")\n",
        "    no_puertas: str = Field(description=\"La cantidad de puertas\")\n",
        "    combustible: str = Field(description=\"El tipo de combustible\")\n",
        "    motor: str = Field(description=\"El tipo del motor\")\n",
        "    descripcion: str = Field(description=\"La descripcion del vehiculo\")\n",
        "    color: str = Field(description=\"El color exterior del vehiculo\")\n",
        "    total: str = Field(description=\"El total de la factura\")"
      ]
    },
    {
      "cell_type": "code",
      "execution_count": 6,
      "id": "790cbc58",
      "metadata": {},
      "outputs": [],
      "source": [
        "class PersonalID(BaseModel):\n",
        "    nombre: str = Field(description=\"El nombre de la persona en la credencial\")\n",
        "    domicilio: str = Field(description=\"El domicilio de la persona en la credencial\")"
      ]
    },
    {
      "cell_type": "code",
      "execution_count": 7,
      "id": "501f6bf8",
      "metadata": {},
      "outputs": [],
      "source": [
        "class VehicleID(BaseModel):\n",
        "    propietario: str = Field(description=\"El nombre de la persona en la tarjeta de circulacion\")\n",
        "    vehiculo: str = Field(description=\"El tipo de vehiculo en la en la tarjeta de circulacion\")\n",
        "    marca: str = Field(description=\"El nombre de la marca en la tarjeta de circulacion\")\n",
        "    modelo: str = Field(description=\"El nombre del modelo en la tarjeta de circulacion\")\n",
        "    placa: str = Field(description=\"La placa del vehiculo como aparece en la tarjeta de circulacion\")\n",
        "    clase_tipo: str = Field(desciption=\"El nombre de la clase y tipo en la tarjeta de circulacion\")\n",
        "    fecha_expedicion: str = Field(description=\"La fecha de expedicion de la tarjeta de circulacion\")\n",
        "    vigencia: str = Field(description=\"La fecha de vigencia de la tarjeta de circulacion\")\n",
        "    origen: str = Field(description=\"El origen del vehiculo en la tarjeta de circulacion\")"
      ]
    },
    {
      "cell_type": "code",
      "execution_count": 8,
      "id": "9c965164",
      "metadata": {},
      "outputs": [],
      "source": [
        "prompt = ChatPromptTemplate(messages=messages)"
      ]
    },
    {
      "cell_type": "code",
      "execution_count": 9,
      "id": "c412c834",
      "metadata": {},
      "outputs": [],
      "source": [
        "def load_image(inputs):\n",
        "    \"\"\"Load image from file and encode it as base64.\"\"\"\n",
        "    image_path = inputs[\"image_path\"]\n",
        "  \n",
        "    def encode_image(image_path):\n",
        "        with open(image_path, \"rb\") as image_file:\n",
        "            return base64.b64encode(image_file.read()).decode('utf-8')\n",
        "    image_base64 = encode_image(image_path)\n",
        "    return {\"image\": image_base64}"
      ]
    },
    {
      "cell_type": "code",
      "execution_count": 10,
      "id": "439a0dde",
      "metadata": {},
      "outputs": [],
      "source": [
        "load_image_chain = TransformChain(\n",
        "    input_variables=[\"image_path\"],\n",
        "    output_variables=[\"image\"],\n",
        "    transform=load_image\n",
        ")"
      ]
    },
    {
      "cell_type": "code",
      "execution_count": 11,
      "id": "0058c031",
      "metadata": {},
      "outputs": [],
      "source": [
        "parser = PydanticOutputParser(pydantic_object=Factura)"
      ]
    },
    {
      "cell_type": "code",
      "execution_count": 12,
      "id": "efa54f1f",
      "metadata": {},
      "outputs": [],
      "source": [
        "vision_chain = load_image_chain | prompt | llm.bind_tools([Factura])"
      ]
    },
    {
      "cell_type": "code",
      "execution_count": 13,
      "id": "39b439dc",
      "metadata": {},
      "outputs": [],
      "source": [
        "image_path = \"./data/bronze/BASE_AUTOAVANZA/documentos_clean/FAC_FRENTE/Caso 1_TK 62853-1 FAC_FRENTE_otsu.jpg\""
      ]
    },
    {
      "cell_type": "code",
      "execution_count": 14,
      "id": "0b1ae6f8",
      "metadata": {},
      "outputs": [],
      "source": [
        "response = vision_chain.invoke(input={\"image_path\": image_path})"
      ]
    },
    {
      "cell_type": "code",
      "execution_count": 15,
      "id": "db926fa6",
      "metadata": {},
      "outputs": [
        {
          "name": "stdout",
          "output_type": "stream",
          "text": [
            "{'clase': 'CAMIONETA',\n",
            " 'cliente': 'RODRIGUEZ FLIZONDO FRANCISCO',\n",
            " 'color': 'NEGRO',\n",
            " 'combustible': 'GASOLINA',\n",
            " 'descripcion': 'UN VEHICULO NUEVO 7895 TOYOTA HILUX DOB CAB SR MODELO 2019 '\n",
            "                'MOTOR 2.7 LTS. TRANSMISION MANUAL ORIGEN IMPORTADA COLOR EXT. '\n",
            "                '1E7 COLOR INT. NEGRO',\n",
            " 'fecha': '2019-10-01T17:39:51',\n",
            " 'marca': 'TOYOTA',\n",
            " 'modelo': 'HILUX',\n",
            " 'motor': '2TR-AG 88.6',\n",
            " 'no_puertas': '4',\n",
            " 'rfc': 'ROEF-690608-6G3',\n",
            " 'tipo': 'HILUX DOB CAB SR',\n",
            " 'total': '$325,217.24'}\n"
          ]
        }
      ],
      "source": [
        "import pprint\n",
        "\n",
        "pprint.pprint(response.tool_calls[0]['args'])"
      ]
    },
    {
      "cell_type": "code",
      "execution_count": 16,
      "id": "3f5df1ea",
      "metadata": {},
      "outputs": [],
      "source": [
        "csv_file = \"./data/bronze/BASE_AUTOAVANZA/documents/vehicles.csv\"\n",
        "invoices = glob.glob(\"./data/bronze/BASE_AUTOAVANZA/documentos_clean/FAC_FRENTE/*_otsu.jpg\")"
      ]
    },
    {
      "cell_type": "code",
      "execution_count": 17,
      "id": "02933dd7",
      "metadata": {},
      "outputs": [],
      "source": [
        "def extract_documents(documents, out_file, chain):\n",
        "    t = tqdm(total=len(documents))\n",
        "\n",
        "    def process_document(doc):\n",
        "        response = chain.invoke(input={\"image_path\": doc})\n",
        "        data = {}\n",
        "        if len(response.tool_calls) > 0:\n",
        "            data = response.tool_calls[0]['args']\n",
        "        t.update()\n",
        "        return data\n",
        "\n",
        "    def write_document(data):\n",
        "        fieldnames = data.keys()\n",
        "        try:\n",
        "            with open(out_file, \"a\", newline=\"\") as f:\n",
        "                writer = csv.DictWriter(f, fieldnames=fieldnames)\n",
        "\n",
        "                if f.tell() == 0:\n",
        "                    writer.writeheader()\n",
        "\n",
        "                writer.writerow(data)\n",
        "        except Exception as e:\n",
        "            print(f\"Error {e} in {data}\")\n",
        "\n",
        "    futures = []\n",
        "\n",
        "    with concurrent.futures.ThreadPoolExecutor(max_workers=3) as executor:\n",
        "        while len(documents) > 0:\n",
        "            doc = documents.pop()\n",
        "            future = executor.submit(process_document, doc)\n",
        "            futures.append(future)\n",
        "    \n",
        "    for f in futures:\n",
        "        data = f.result()\n",
        "        write_document(data)"
      ]
    },
    {
      "cell_type": "code",
      "execution_count": 18,
      "id": "38636c69",
      "metadata": {},
      "outputs": [
        {
          "name": "stderr",
          "output_type": "stream",
          "text": [
            "100%|██████████| 37/37 [03:52<00:00,  6.28s/it]\n"
          ]
        }
      ],
      "source": [
        "extract_documents(invoices, csv_file, vision_chain)"
      ]
    },
    {
      "cell_type": "code",
      "execution_count": 19,
      "id": "e8da6b32",
      "metadata": {},
      "outputs": [],
      "source": [
        "id_vision_chain = load_image_chain | prompt | llm.bind_tools([PersonalID])"
      ]
    },
    {
      "cell_type": "code",
      "execution_count": 20,
      "id": "8e3c50ba",
      "metadata": {},
      "outputs": [],
      "source": [
        "csv_file = \"./data/bronze/BASE_AUTOAVANZA/documents/credenciales.csv\"\n",
        "personal_ids = glob.glob(\"./data/bronze/BASE_AUTOAVANZA/documentos_clean/INE_FRENTE/*_adaptativo.jpg\")"
      ]
    },
    {
      "cell_type": "code",
      "execution_count": 21,
      "id": "372de964",
      "metadata": {},
      "outputs": [
        {
          "name": "stderr",
          "output_type": "stream",
          "text": [
            "100%|██████████| 36/36 [01:29<00:00,  2.49s/it]\n"
          ]
        }
      ],
      "source": [
        "extract_documents(personal_ids, csv_file, id_vision_chain)"
      ]
    },
    {
      "cell_type": "code",
      "execution_count": 22,
      "id": "ebc7a853",
      "metadata": {},
      "outputs": [],
      "source": [
        "vehicle_id_vision_chain = load_image_chain | prompt | llm.bind_tools([VehicleID])"
      ]
    },
    {
      "cell_type": "code",
      "execution_count": 23,
      "id": "f4d355ff",
      "metadata": {},
      "outputs": [],
      "source": [
        "csv_file = \"./data/bronze/BASE_AUTOAVANZA/documents/tarjetas_circulacion.csv\"\n",
        "tcs = glob.glob(\"./data/bronze/BASE_AUTOAVANZA/documentos_clean/TC_FRENTE/*_adaptativo.jpg\")"
      ]
    },
    {
      "cell_type": "code",
      "execution_count": 24,
      "id": "6df4aec5",
      "metadata": {},
      "outputs": [
        {
          "name": "stderr",
          "output_type": "stream",
          "text": [
            "100%|██████████| 35/35 [02:28<00:00,  4.24s/it]\n"
          ]
        }
      ],
      "source": [
        "extract_documents(tcs, csv_file, vehicle_id_vision_chain)"
      ]
    }
  ],
  "metadata": {
    "colab": {
      "provenance": []
    },
    "kernelspec": {
      "display_name": ".venv",
      "language": "python",
      "name": "python3"
    },
    "language_info": {
      "codemirror_mode": {
        "name": "ipython",
        "version": 3
      },
      "file_extension": ".py",
      "mimetype": "text/x-python",
      "name": "python",
      "nbconvert_exporter": "python",
      "pygments_lexer": "ipython3",
      "version": "3.10.16"
    }
  },
  "nbformat": 4,
  "nbformat_minor": 5
}
