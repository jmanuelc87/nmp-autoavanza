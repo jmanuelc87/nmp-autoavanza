{
  "cells": [
    {
      "cell_type": "markdown",
      "id": "ac7d8535",
      "metadata": {
        "id": "ac7d8535"
      },
      "source": [
        "<a target=\"_blank\" href=\"https://colab.research.google.com/github/jmanuelc87/nmp-autoavanza/blob/main/notebooks/MontePiedad_Extraction.ipynb\">\n",
        "  <img src=\"https://colab.research.google.com/assets/colab-badge.svg\" alt=\"Open In Colab\"/>\n",
        "</a>"
      ]
    },
    {
      "cell_type": "code",
      "execution_count": null,
      "id": "DioCF2bZqjev",
      "metadata": {
        "id": "DioCF2bZqjev"
      },
      "outputs": [],
      "source": [
        "import base64\n",
        "from PIL import Image\n",
        "\n",
        "from langchain.document_loaders import PyPDFLoader\n",
        "from langchain.text_splitter import CharacterTextSplitter\n",
        "\n",
        "from langchain_community.embeddings import HuggingFaceEmbeddings\n",
        "from langchain_community.vectorstores import Chroma\n",
        "\n",
        "from langchain_core.prompts import ChatPromptTemplate\n",
        "\n",
        "from langchain_huggingface.llms import HuggingFacePipeline\n",
        "from transformers import AutoModelForCausalLM, AutoTokenizer, pipeline"
      ]
    },
    {
      "cell_type": "code",
      "execution_count": null,
      "id": "7390292d",
      "metadata": {},
      "outputs": [],
      "source": [
        "path = \"OpenGVLab/InternVL2_5-1B\""
      ]
    },
    {
      "cell_type": "markdown",
      "id": "8d2a9643",
      "metadata": {
        "id": "8d2a9643"
      },
      "source": [
        "# Extract Information"
      ]
    },
    {
      "cell_type": "code",
      "execution_count": null,
      "id": "8ed916d5",
      "metadata": {},
      "outputs": [],
      "source": [
        "model = AutoModelForCausalLM.from_pretrained(path, load_in_8bit=True, trust_remote_code=True)\n",
        "\n",
        "tokenizer = AutoTokenizer.from_pretrained(path, trust_remote_code=True, use_fast=False)"
      ]
    },
    {
      "cell_type": "code",
      "execution_count": null,
      "id": "bd1a81e8",
      "metadata": {},
      "outputs": [],
      "source": [
        "pipeline_llm = pipeline(\"text-generation\", model=model, tokenizer=tokenizer, max_new_tokens=100)"
      ]
    },
    {
      "cell_type": "code",
      "execution_count": null,
      "id": "dcf26c3f",
      "metadata": {},
      "outputs": [],
      "source": [
        "messages = [\n",
        "    {\n",
        "        \"role\": \"user\",\n",
        "        \"content\": [{\"type\": \"text\", \"text\": \"Extrae el texto de la imagen.\"}, {\"type\": \"image_url\", \"image_url\": \"https://drive.usercontent.google.com/download?id=1J1dUqhxgq_uB8rNvIkqJ04HlZPLL5lbW\"}]\n",
        "    },\n",
        "]"
      ]
    },
    {
      "cell_type": "code",
      "execution_count": null,
      "id": "7accc24c",
      "metadata": {},
      "outputs": [],
      "source": [
        "output = pipeline_llm(text_inputs=messages, max_new_tokens=200)"
      ]
    },
    {
      "cell_type": "code",
      "execution_count": null,
      "id": "edc609a6",
      "metadata": {},
      "outputs": [],
      "source": [
        "import pprint\n",
        "\n",
        "pprint.pprint(output[0][\"generated_text\"][-1][\"content\"])"
      ]
    }
  ],
  "metadata": {
    "colab": {
      "provenance": []
    },
    "kernelspec": {
      "display_name": ".venv",
      "language": "python",
      "name": "python3"
    },
    "language_info": {
      "codemirror_mode": {
        "name": "ipython",
        "version": 3
      },
      "file_extension": ".py",
      "mimetype": "text/x-python",
      "name": "python",
      "nbconvert_exporter": "python",
      "pygments_lexer": "ipython3",
      "version": "3.10.16"
    }
  },
  "nbformat": 4,
  "nbformat_minor": 5
}
