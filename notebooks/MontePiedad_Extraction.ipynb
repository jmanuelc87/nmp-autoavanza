{
  "cells": [
    {
      "cell_type": "markdown",
      "id": "ac7d8535",
      "metadata": {
        "id": "ac7d8535"
      },
      "source": [
        "<a target=\"_blank\" href=\"https://colab.research.google.com/github/jmanuelc87/nmp-autoavanza/blob/main/notebooks/MontePiedad_Extraction.ipynb\">\n",
        "  <img src=\"https://colab.research.google.com/assets/colab-badge.svg\" alt=\"Open In Colab\"/>\n",
        "</a>"
      ]
    },
    {
      "cell_type": "code",
      "execution_count": null,
      "id": "DioCF2bZqjev",
      "metadata": {
        "id": "DioCF2bZqjev"
      },
      "outputs": [],
      "source": [
        "import os\n",
        "import csv\n",
        "import glob\n",
        "import json\n",
        "import math\n",
        "import torch\n",
        "import base64\n",
        "import jsonlines\n",
        "import concurrent.futures\n",
        "import threading\n",
        "import numpy as np\n",
        "import pandas as pd\n",
        "import pytesseract as pyt\n",
        "import matplotlib.pyplot as plt\n",
        "\n",
        "from tqdm import tqdm\n",
        "\n",
        "from pydantic import BaseModel, Field\n",
        "\n",
        "from langchain.output_parsers.json import SimpleJsonOutputParser\n",
        "from langchain.chains import TransformChain\n",
        "from langchain_core.tools import tool\n",
        "from langchain_core.prompts import ChatPromptTemplate\n",
        "from langchain_openai import ChatOpenAI"
      ]
    },
    {
      "cell_type": "markdown",
      "id": "6ca1f999",
      "metadata": {},
      "source": [
        "## Extract Information using ChatOpenAI"
      ]
    },
    {
      "cell_type": "code",
      "execution_count": 251,
      "id": "021c6778",
      "metadata": {},
      "outputs": [],
      "source": [
        "if \"OPENAI_API_KEY\" not in os.environ:\n",
        "    os.environ['OPENAI_ORG_ID'] = '***'\n",
        "    os.environ['OPENAI_PROJECT_ID'] = '***'\n",
        "    os.environ['OPENAI_API_KEY'] = '***'"
      ]
    },
    {
      "cell_type": "code",
      "execution_count": 102,
      "id": "60d05b58",
      "metadata": {},
      "outputs": [],
      "source": [
        "llm = ChatOpenAI(\n",
        "    model = \"gpt-4.1-mini\",\n",
        "    temperature=0,\n",
        "    # base_url='http://localhost:1234/v1',\n",
        ")"
      ]
    },
    {
      "cell_type": "code",
      "execution_count": null,
      "id": "88d69d15",
      "metadata": {},
      "outputs": [],
      "source": [
        "extract = [\n",
        "    {\n",
        "        \"role\": \"system\",\n",
        "        \"content\": \"Eres un asistente lector de documentos servicial, usando OCR extraes los campos de la imagen, tus respuestas son concisas, respondes en formato json, y si no identificas el valor de un atributo retorna null para el valor del atributo\",\n",
        "    },\n",
        "    {\n",
        "        \"role\": \"user\",\n",
        "        \"content\": [\n",
        "            {\"type\": \"image_url\", \"image_url\": {\"url\": \"data:image/jpeg;base64,{image}\"}},\n",
        "        ],\n",
        "    },\n",
        "]"
      ]
    },
    {
      "cell_type": "code",
      "execution_count": 104,
      "id": "bdb93135",
      "metadata": {},
      "outputs": [],
      "source": [
        "normalize = [\n",
        "    {\n",
        "        \"role\": \"system\",\n",
        "        \"content\": \"Eres un asistente servicial, recibes una lista de objetos json y normalizas los objetos de forma que todos quedan con igual numero de atributos, tus respuestas son concisas, respondes en formato json los atributos identificados, y si no sabes el valor de un atributo retorna null para el valor del atributo\"\n",
        "    },\n",
        "    {\n",
        "        \"role\": \"user\",\n",
        "        \"content\": [\n",
        "            {\"type\": \"text\", \"text\": \"Identifica los siguientes attributos: {attributes}\"},\n",
        "            {\"type\": \"text\", \"text\": \"{json_str}\"}\n",
        "        ]\n",
        "    }\n",
        "]"
      ]
    },
    {
      "cell_type": "code",
      "execution_count": 105,
      "id": "9c965164",
      "metadata": {},
      "outputs": [],
      "source": [
        "prompt_extraction = ChatPromptTemplate(messages=extract)\n",
        "prompt_normalize = ChatPromptTemplate(messages=normalize)"
      ]
    },
    {
      "cell_type": "code",
      "execution_count": 106,
      "id": "c412c834",
      "metadata": {},
      "outputs": [],
      "source": [
        "def load_image(inputs):\n",
        "    \"\"\"Load image from file and encode it as base64.\"\"\"\n",
        "    image_path = inputs[\"image_path\"]\n",
        "  \n",
        "    def encode_image(image_path):\n",
        "        with open(image_path, \"rb\") as image_file:\n",
        "            return base64.b64encode(image_file.read()).decode('utf-8')\n",
        "    image_base64 = encode_image(image_path)\n",
        "    return {\"image\": image_base64}"
      ]
    },
    {
      "cell_type": "code",
      "execution_count": 107,
      "id": "6543bcd0",
      "metadata": {},
      "outputs": [],
      "source": [
        "def dict_to_str(inputs):\n",
        "    json_str = json.dumps(inputs)\n",
        "\n",
        "    return {\"json_str\": json_str}"
      ]
    },
    {
      "cell_type": "code",
      "execution_count": 108,
      "id": "439a0dde",
      "metadata": {},
      "outputs": [],
      "source": [
        "load_image_chain = TransformChain(\n",
        "    input_variables=[\"image_path\"], output_variables=[\"image\"], transform=load_image\n",
        ")\n",
        "\n",
        "load_json_str_chain = TransformChain(\n",
        "    input_variables=[\"output\"], output_variables=[\"json_str\"], transform=dict_to_str\n",
        ")"
      ]
    },
    {
      "cell_type": "code",
      "execution_count": 109,
      "id": "7314f8c4",
      "metadata": {},
      "outputs": [],
      "source": [
        "parser = SimpleJsonOutputParser()"
      ]
    },
    {
      "cell_type": "code",
      "execution_count": 110,
      "id": "efa54f1f",
      "metadata": {},
      "outputs": [],
      "source": [
        "extract_chain = load_image_chain | prompt_extraction | llm | parser"
      ]
    },
    {
      "cell_type": "code",
      "execution_count": 111,
      "id": "eac14658",
      "metadata": {},
      "outputs": [],
      "source": [
        "normalize_chain = prompt_normalize | llm | parser"
      ]
    },
    {
      "cell_type": "code",
      "execution_count": 112,
      "id": "39b439dc",
      "metadata": {},
      "outputs": [],
      "source": [
        "image_path = \"./data/bronze/BASE_AUTOAVANZA/documentos_clean/FAC_FRENTE/Caso 1_TK 62853-1 FAC_FRENTE_otsu.jpg\""
      ]
    },
    {
      "cell_type": "code",
      "execution_count": 113,
      "id": "0b1ae6f8",
      "metadata": {},
      "outputs": [],
      "source": [
        "response1 = extract_chain.invoke(input={\"image_path\": image_path})"
      ]
    },
    {
      "cell_type": "code",
      "execution_count": 114,
      "id": "db926fa6",
      "metadata": {},
      "outputs": [
        {
          "name": "stdout",
          "output_type": "stream",
          "text": [
            "{'aduana': 'LAZARO CARDEI',\n",
            " 'capacidad': '5',\n",
            " 'celular_cliente': '3414145112',\n",
            " 'clase': 'CAMIONETA',\n",
            " 'clave_producto': '25101500',\n",
            " 'clave_unidad': 'C62',\n",
            " 'clave_vehicular': '1520601',\n",
            " 'cliente': 'RODRIGUEZ ELIZONDO FRANCISCO',\n",
            " 'codigo_postal': '49600',\n",
            " 'combustible': 'GASOLINA',\n",
            " 'condiciones_pago': 'TFS',\n",
            " 'descripcion': 'UN VEHICULO NUEVO 7495 TOYOTA HILUX DOB CAB SR MODELO 2019 '\n",
            "                'MOTOR: 2.7 LTS. TRANSMISION: MANUAL ORIGEN: IMPORTADA COLOR '\n",
            "                'EXT. PLATA COLOR INT. NEGRO HILUX DOBLE CABINA SR, '\n",
            "                'TRANSMISION MANUAL DE 5 VELOCIDADES, CAP CARGA 820 KG, MOTOR '\n",
            "                '4 CILINDROS, VVT-I DUAL, 2.7 LTS, 166 HP, 16 VALVULAS, RINES '\n",
            "                'DE ALUMINIO DE 17\", AIRE ACONDICIONADO MANUAL, VESTIDURAS EN '\n",
            "                'TELA, FAROS DE NIEBLA, SISTEMA DE AUDIO RADIO AM/FM/CD/BT/USB '\n",
            "                'CON CAPACIDAD PARA LEER MP3 Y WMA; MINIJACK CON 4 BOCINAS, '\n",
            "                'BOLSAS DE AIRE FRONTALES DE MULTIPLE ETAPA PARA CONDUCTOR Y '\n",
            "                'ACOMPAÑANTE Y DE RODILLAS PARA CONDUCTOR',\n",
            " 'direccion_cliente': 'HIDALGO PONIENTE 473, ZAPOTILTIC CENTRO, ZAPOTILTIC, '\n",
            "                      'JALISCO, MEXICO',\n",
            " 'factura': 'GFU000000343',\n",
            " 'fecha': '2019-10-01T17:39:5',\n",
            " 'fecha_aduana': '07/06/2019',\n",
            " 'fecha_timbrado_cfdi': '2019-10-01T17:40:19',\n",
            " 'forma_pago': '99',\n",
            " 'importe': '$325,517.24',\n",
            " 'iva': '$52,082.76',\n",
            " 'linea': 'HILUX',\n",
            " 'marca': 'TOYOTA',\n",
            " 'metodo_pago': 'PPD PAGO EN PARCIALIDADES O DIFERIDO',\n",
            " 'modelo': '2019',\n",
            " 'motor': '2TRA601886',\n",
            " 'numero_certificado_sat': '00001000000405428713',\n",
            " 'numero_cilindros': '4',\n",
            " 'numero_inventario': '24108',\n",
            " 'numero_pedimento_importacion': '195137889002692',\n",
            " 'numero_puertas': '4',\n",
            " 'numero_serie': 'MROEX8DD2K0186450',\n",
            " 'numero_serie_certificado_sello_digital': '00001000000404458636',\n",
            " 'procedencia': 'TOYOTA TAILANDIA',\n",
            " 'rfc': 'ROEF-690604-6G3',\n",
            " 'telefono_cliente': '4145112',\n",
            " 'tipo': 'HILUX DOB CAB SR',\n",
            " 'total': '$377,600.00',\n",
            " 'uso_cfdi': 'P01',\n",
            " 'uuid_folio': 'GRC000001617',\n",
            " 'uuid_timbrado_cfdi': 'f130dace-3b7f-4d60-87c2-2050663b00ee'}\n"
          ]
        }
      ],
      "source": [
        "import pprint\n",
        "\n",
        "pprint.pprint(response1)"
      ]
    },
    {
      "cell_type": "code",
      "execution_count": 115,
      "id": "2652a09e",
      "metadata": {},
      "outputs": [],
      "source": [
        "image_path = \"./data/bronze/BASE_AUTOAVANZA/documentos_clean/FAC_FRENTE/Caso 2_TK 63075-1 FAC_FRENTE_otsu.jpg\""
      ]
    },
    {
      "cell_type": "code",
      "execution_count": 116,
      "id": "11c8eee5",
      "metadata": {},
      "outputs": [],
      "source": [
        "response2 = extract_chain.invoke(input={\"image_path\": image_path})"
      ]
    },
    {
      "cell_type": "code",
      "execution_count": 117,
      "id": "db654fcc",
      "metadata": {},
      "outputs": [
        {
          "name": "stdout",
          "output_type": "stream",
          "text": [
            "{'certificado': '00001000000505147443',\n",
            " 'cliente': {'direccion': 'CEREZO 632, Col. RESID EBANOS 5TO SECTOR, APODACA, '\n",
            "                          'NUEVO LEON, Mexico, C.P.: 66612',\n",
            "             'nombre': 'MARTHA ELENA ESCALANTE LIZCANO',\n",
            "             'rfc': 'XAXX010101000'},\n",
            " 'conceptos': {'cantidad': '1',\n",
            "               'clave_unidad': 'XVN',\n",
            "               'clave_vehicular': '0981407',\n",
            "               'codigo_sat': '25101500',\n",
            "               'descripcion': 'AUTO NUEVO MGMARCA MG ZS SUV COM EXC VERSION '\n",
            "                              '1.5L COM EXCITE AT, 1.5 LTS., AUTOMATICO, 4 '\n",
            "                              'CIL. &10;DISTRIBUIDOR MG SENDERO &10, COLOR '\n",
            "                              'EXTERIOR AZUL LASER COLOR INTERIOR NEGRO &10, '\n",
            "                              'COLOR INTERIOR',\n",
            "               'descuento': '0.00',\n",
            "               'importe': '366,293.10',\n",
            "               'impuestos': {'iva': '58,606.90'},\n",
            "               'pedimento': '22 51 1669 2005344',\n",
            "               'valor_unitario': '366,293.10',\n",
            "               'version': '1.1'},\n",
            " 'condiciones_pago': 'CONTADO',\n",
            " 'detalle': {'capacidad': '5',\n",
            "             'clase': 'ZS4',\n",
            "             'combustible': 'GASOLINA',\n",
            "             'cond_pago': 'CONTADO',\n",
            "             'cve_vehicular': '0981407',\n",
            "             'linea': 'MGZS 1.5L COM',\n",
            "             'marca': 'MG',\n",
            "             'modelo': '2022',\n",
            "             'no_cilindros': '4',\n",
            "             'no_cliente': '12021-3',\n",
            "             'no_motor': '15S4C8FGN4030653',\n",
            "             'no_pedido': '2436',\n",
            "             'no_puertas': '5',\n",
            "             'no_serie': 'LSJW74U94NZ186987',\n",
            "             'no_vendedor': '18',\n",
            "             'registro_federal': '5FJ5P9FF',\n",
            "             'tipo': 'MGZS 1.5L COM'},\n",
            " 'direccion_emisor': 'AV. UNIVERSIDAD 1005 CENTRO, SAN NICOLAS DE LOS GARZA, '\n",
            "                     'NUEVO LEON MEXICO, 66428',\n",
            " 'emisor': 'FUERZAUTO SENDERO SA. DE CV.',\n",
            " 'factura': 'VN 2149',\n",
            " 'fecha_hora_emision': '2022-10-13T18:01:00',\n",
            " 'forma_pago': '03 - Transferencia electrónica de fondos',\n",
            " 'lugar_expedicion': '66428',\n",
            " 'metodo_pago': 'PPD - Pago en parcialidades o diferido',\n",
            " 'moneda': 'MXN',\n",
            " 'observaciones': 'ESTA UNIDAD FUE IMPORTADA POR PED. No.-225116692005344 '\n",
            "                  'FEC.-2022-09-21 POR LA ADUANA DE LAZARO CARDENAS, '\n",
            "                  'MICHOACAN.',\n",
            " 'regimen_fiscal': '601 Régimen General de Ley Personas Morales',\n",
            " 'rfc_emisor': None,\n",
            " 'timbre_fiscal': {'fecha_hora_certificacion': '13/10/2022 18:01:34',\n",
            "                   'folio_fiscal': '7dc88c8a-4fbd-4b4c-8125-a2865fc30a32',\n",
            "                   'no_certificado_sat': '00001000000414211380',\n",
            "                   'rfc_pac': 'SNF171020F3A'},\n",
            " 'tipo_relacion': '07 - CFDI por aplicación de anticipo',\n",
            " 'totales': {'descuento': '0.00',\n",
            "             'iva': '58,606.90',\n",
            "             'subtotal': '366,293.10',\n",
            "             'total': '424,900.00',\n",
            "             'total_letra': 'CUATROCIENTOS VEINTICUATRO MIL NOVECIENTOS PESOS '\n",
            "                            '00/100 M.N.'},\n",
            " 'uso_cfdi': 'P01 - Por definir'}\n"
          ]
        }
      ],
      "source": [
        "import pprint\n",
        "\n",
        "pprint.pprint(response2)"
      ]
    },
    {
      "cell_type": "code",
      "execution_count": 118,
      "id": "7308df93",
      "metadata": {},
      "outputs": [
        {
          "data": {
            "text/plain": [
              "'[{\"cliente\": \"RODRIGUEZ ELIZONDO FRANCISCO\", \"direccion_cliente\": \"HIDALGO PONIENTE 473, ZAPOTILTIC CENTRO, ZAPOTILTIC, JALISCO, MEXICO\", \"telefono_cliente\": \"4145112\", \"celular_cliente\": \"3414145112\", \"codigo_postal\": \"49600\", \"factura\": \"GFU000000343\", \"fecha\": \"2019-10-01T17:39:5\", \"rfc\": \"ROEF-690604-6G3\", \"numero_inventario\": \"24108\", \"numero_serie\": \"MROEX8DD2K0186450\", \"condiciones_pago\": \"TFS\", \"procedencia\": \"TOYOTA TAILANDIA\", \"numero_pedimento_importacion\": \"195137889002692\", \"marca\": \"TOYOTA\", \"linea\": \"HILUX\", \"modelo\": \"2019\", \"clase\": \"CAMIONETA\", \"tipo\": \"HILUX DOB CAB SR\", \"clave_vehicular\": \"1520601\", \"numero_puertas\": \"4\", \"numero_cilindros\": \"4\", \"capacidad\": \"5\", \"combustible\": \"GASOLINA\", \"motor\": \"2TRA601886\", \"aduana\": \"LAZARO CARDEI\", \"fecha_aduana\": \"07/06/2019\", \"descripcion\": \"UN VEHICULO NUEVO 7495 TOYOTA HILUX DOB CAB SR MODELO 2019 MOTOR: 2.7 LTS. TRANSMISION: MANUAL ORIGEN: IMPORTADA COLOR EXT. PLATA COLOR INT. NEGRO HILUX DOBLE CABINA SR, TRANSMISION MANUAL DE 5 VELOCIDADES, CAP CARGA 820 KG, MOTOR 4 CILINDROS, VVT-I DUAL, 2.7 LTS, 166 HP, 16 VALVULAS, RINES DE ALUMINIO DE 17\\\\\", AIRE ACONDICIONADO MANUAL, VESTIDURAS EN TELA, FAROS DE NIEBLA, SISTEMA DE AUDIO RADIO AM/FM/CD/BT/USB CON CAPACIDAD PARA LEER MP3 Y WMA; MINIJACK CON 4 BOCINAS, BOLSAS DE AIRE FRONTALES DE MULTIPLE ETAPA PARA CONDUCTOR Y ACOMPA\\\\u00d1ANTE Y DE RODILLAS PARA CONDUCTOR\", \"importe\": \"$325,517.24\", \"iva\": \"$52,082.76\", \"total\": \"$377,600.00\", \"uso_cfdi\": \"P01\", \"metodo_pago\": \"PPD PAGO EN PARCIALIDADES O DIFERIDO\", \"forma_pago\": \"99\", \"clave_producto\": \"25101500\", \"clave_unidad\": \"C62\", \"uuid_folio\": \"GRC000001617\", \"numero_serie_certificado_sello_digital\": \"00001000000404458636\", \"fecha_timbrado_cfdi\": \"2019-10-01T17:40:19\", \"numero_certificado_sat\": \"00001000000405428713\", \"uuid_timbrado_cfdi\": \"f130dace-3b7f-4d60-87c2-2050663b00ee\"}, {\"emisor\": \"FUERZAUTO SENDERO SA. DE CV.\", \"rfc_emisor\": null, \"direccion_emisor\": \"AV. UNIVERSIDAD 1005 CENTRO, SAN NICOLAS DE LOS GARZA, NUEVO LEON MEXICO, 66428\", \"regimen_fiscal\": \"601 R\\\\u00e9gimen General de Ley Personas Morales\", \"factura\": \"VN 2149\", \"tipo_relacion\": \"07 - CFDI por aplicaci\\\\u00f3n de anticipo\", \"fecha_hora_emision\": \"2022-10-13T18:01:00\", \"lugar_expedicion\": \"66428\", \"uso_cfdi\": \"P01 - Por definir\", \"moneda\": \"MXN\", \"certificado\": \"00001000000505147443\", \"metodo_pago\": \"PPD - Pago en parcialidades o diferido\", \"forma_pago\": \"03 - Transferencia electr\\\\u00f3nica de fondos\", \"condiciones_pago\": \"CONTADO\", \"cliente\": {\"nombre\": \"MARTHA ELENA ESCALANTE LIZCANO\", \"rfc\": \"XAXX010101000\", \"direccion\": \"CEREZO 632, Col. RESID EBANOS 5TO SECTOR, APODACA, NUEVO LEON, Mexico, C.P.: 66612\"}, \"detalle\": {\"no_cliente\": \"12021-3\", \"no_pedido\": \"2436\", \"no_vendedor\": \"18\", \"cond_pago\": \"CONTADO\", \"marca\": \"MG\", \"linea\": \"MGZS 1.5L COM\", \"modelo\": \"2022\", \"clase\": \"ZS4\", \"tipo\": \"MGZS 1.5L COM\", \"cve_vehicular\": \"0981407\", \"no_cilindros\": \"4\", \"no_puertas\": \"5\", \"capacidad\": \"5\", \"combustible\": \"GASOLINA\", \"no_serie\": \"LSJW74U94NZ186987\", \"no_motor\": \"15S4C8FGN4030653\", \"registro_federal\": \"5FJ5P9FF\"}, \"conceptos\": {\"descripcion\": \"AUTO NUEVO MGMARCA MG ZS SUV COM EXC VERSION 1.5L COM EXCITE AT, 1.5 LTS., AUTOMATICO, 4 CIL. &10;DISTRIBUIDOR MG SENDERO &10, COLOR EXTERIOR AZUL LASER COLOR INTERIOR NEGRO &10, COLOR INTERIOR\", \"cantidad\": \"1\", \"clave_unidad\": \"XVN\", \"valor_unitario\": \"366,293.10\", \"importe\": \"366,293.10\", \"descuento\": \"0.00\", \"impuestos\": {\"iva\": \"58,606.90\"}, \"codigo_sat\": \"25101500\", \"pedimento\": \"22 51 1669 2005344\", \"version\": \"1.1\", \"clave_vehicular\": \"0981407\"}, \"totales\": {\"subtotal\": \"366,293.10\", \"iva\": \"58,606.90\", \"descuento\": \"0.00\", \"total\": \"424,900.00\", \"total_letra\": \"CUATROCIENTOS VEINTICUATRO MIL NOVECIENTOS PESOS 00/100 M.N.\"}, \"observaciones\": \"ESTA UNIDAD FUE IMPORTADA POR PED. No.-225116692005344 FEC.-2022-09-21 POR LA ADUANA DE LAZARO CARDENAS, MICHOACAN.\", \"timbre_fiscal\": {\"rfc_pac\": \"SNF171020F3A\", \"folio_fiscal\": \"7dc88c8a-4fbd-4b4c-8125-a2865fc30a32\", \"no_certificado_sat\": \"00001000000414211380\", \"fecha_hora_certificacion\": \"13/10/2022 18:01:34\"}}]'"
            ]
          },
          "execution_count": 118,
          "metadata": {},
          "output_type": "execute_result"
        }
      ],
      "source": [
        "result = json.dumps([response1, response2])\n",
        "result"
      ]
    },
    {
      "cell_type": "code",
      "execution_count": 119,
      "id": "d1782932",
      "metadata": {},
      "outputs": [],
      "source": [
        "attributos = \",\".join(\n",
        "    [\"Nombre del Cliente\", \"Numero de Serie o NIV\", \"Marca\", \"Modelo\", \"Año\", \"Version\"]\n",
        ")\n",
        "response = normalize_chain.invoke(input={\"json_str\": result, \"attributes\": attributos})"
      ]
    },
    {
      "cell_type": "code",
      "execution_count": 120,
      "id": "25363ef5",
      "metadata": {},
      "outputs": [
        {
          "name": "stdout",
          "output_type": "stream",
          "text": [
            "[{'Año': '2019',\n",
            "  'Marca': 'TOYOTA',\n",
            "  'Modelo': '2019',\n",
            "  'Nombre del Cliente': 'RODRIGUEZ ELIZONDO FRANCISCO',\n",
            "  'Numero de Serie o NIV': 'MROEX8DD2K0186450',\n",
            "  'Version': None},\n",
            " {'Año': '2022',\n",
            "  'Marca': 'MG',\n",
            "  'Modelo': '2022',\n",
            "  'Nombre del Cliente': 'MARTHA ELENA ESCALANTE LIZCANO',\n",
            "  'Numero de Serie o NIV': 'LSJW74U94NZ186987',\n",
            "  'Version': '1.1'}]\n"
          ]
        }
      ],
      "source": [
        "import pprint\n",
        "\n",
        "pprint.pprint(response)"
      ]
    },
    {
      "cell_type": "code",
      "execution_count": null,
      "id": "02933dd7",
      "metadata": {},
      "outputs": [],
      "source": [
        "def extract_documents(documents, out_file, chain_extraction, chain_normalize, attributes, max_workers=3):\n",
        "    t = tqdm(total=len(documents))\n",
        "\n",
        "    def process_document(doc):\n",
        "        response = chain_extraction.invoke(input={\"image_path\": doc})\n",
        "        t.update()\n",
        "        return response\n",
        "\n",
        "    def write_document(data):\n",
        "        try:\n",
        "            with jsonlines.open(out_file, mode='a') as writer:\n",
        "                writer.write_all(data)\n",
        "        except Exception as e:\n",
        "            print(f\"Error {e} in {data}\")\n",
        "\n",
        "    result_list = []\n",
        "\n",
        "    with concurrent.futures.ThreadPoolExecutor(max_workers=max_workers) as executor:\n",
        "        while len(documents) > 0:\n",
        "            doc = documents.pop()\n",
        "            future = executor.submit(process_document, doc)\n",
        "            result_list.append(future.result())\n",
        "\n",
        "    # result = chain_normalize.invoke(input={\"json_str\": json.dumps(result_list), \"attributes\": attributes})\n",
        "    write_document(result_list)"
      ]
    },
    {
      "cell_type": "code",
      "execution_count": 122,
      "id": "3f5df1ea",
      "metadata": {},
      "outputs": [],
      "source": [
        "csv_file = \"./data/bronze/documents/vehicles.jsonl\"\n",
        "invoices = glob.glob(\"./data/bronze/BASE_AUTOAVANZA/documentos_clean/FAC_FRENTE/Caso 1_TK 62853-1 FAC_FRENTE_otsu.jpg\")"
      ]
    },
    {
      "cell_type": "code",
      "execution_count": 123,
      "id": "38636c69",
      "metadata": {},
      "outputs": [
        {
          "name": "stderr",
          "output_type": "stream",
          "text": [
            "100%|██████████| 1/1 [00:23<00:00, 23.02s/it]\n"
          ]
        }
      ],
      "source": [
        "attributos = \",\".join(\n",
        "    [\n",
        "        \"Nombre del Cliente\",\n",
        "        \"Numero de Serie o NIV\",\n",
        "        \"Marca\",\n",
        "        \"Modelo\",\n",
        "        \"Año\",\n",
        "        \"Version\",\n",
        "        \"Numero del Motor\",\n",
        "    ]\n",
        ")\n",
        "extract_documents(invoices, csv_file, extract_chain, normalize_chain, attributos)"
      ]
    },
    {
      "cell_type": "code",
      "execution_count": 124,
      "id": "8e3c50ba",
      "metadata": {},
      "outputs": [],
      "source": [
        "csv_file = \"./data/bronze/documents/credenciales.jsonl\"\n",
        "personal_ids = glob.glob(\"./data/bronze/BASE_AUTOAVANZA/documentos_clean/INE_FRENTE/Caso 1_TK 62853-2 INE_FRENTE_hsv_vchannel_clahe_adaptativo.jpg\")"
      ]
    },
    {
      "cell_type": "code",
      "execution_count": 125,
      "id": "372de964",
      "metadata": {},
      "outputs": [
        {
          "name": "stderr",
          "output_type": "stream",
          "text": [
            "100%|██████████| 1/1 [00:16<00:00, 16.18s/it]\n"
          ]
        }
      ],
      "source": [
        "attributos = \",\".join([\"Nombre\", \"Domicilio\", \"Vigencia\"])\n",
        "extract_documents(personal_ids, csv_file, extract_chain, normalize_chain, attributos)"
      ]
    },
    {
      "cell_type": "code",
      "execution_count": 126,
      "id": "f4d355ff",
      "metadata": {},
      "outputs": [],
      "source": [
        "csv_file = \"./data/bronze/documents/tarjetas_circulacion.jsonl\"\n",
        "tcs = glob.glob(\"./data/bronze/BASE_AUTOAVANZA/documentos_clean/TC_FRENTE/Caso 1_TK 62853-4 TC_FRENTE_clean.jpg\")"
      ]
    },
    {
      "cell_type": "code",
      "execution_count": 128,
      "id": "6df4aec5",
      "metadata": {},
      "outputs": [
        {
          "name": "stderr",
          "output_type": "stream",
          "text": [
            "100%|██████████| 1/1 [00:15<00:00, 15.53s/it]\n"
          ]
        }
      ],
      "source": [
        "attributos = \",\".join(\n",
        "    [\n",
        "        \"Nombre\",\n",
        "        \"Vigencia\",\n",
        "        \"Placa\",\n",
        "        \"Numero de Serie o NIV\",\n",
        "        \"Marca\",\n",
        "        \"Modelo\",\n",
        "        \"Año\",\n",
        "        \"Version\",\n",
        "        \"Numero del Motor\",\n",
        "    ]\n",
        ")\n",
        "extract_documents(tcs, csv_file, extract_chain, normalize_chain, attributos)"
      ]
    }
  ],
  "metadata": {
    "colab": {
      "provenance": []
    },
    "kernelspec": {
      "display_name": ".venv",
      "language": "python",
      "name": "python3"
    },
    "language_info": {
      "codemirror_mode": {
        "name": "ipython",
        "version": 3
      },
      "file_extension": ".py",
      "mimetype": "text/x-python",
      "name": "python",
      "nbconvert_exporter": "python",
      "pygments_lexer": "ipython3",
      "version": "3.10.16"
    }
  },
  "nbformat": 4,
  "nbformat_minor": 5
}
