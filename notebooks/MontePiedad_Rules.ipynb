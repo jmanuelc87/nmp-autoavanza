{
  "cells": [
    {
      "cell_type": "markdown",
      "id": "ac7d8535",
      "metadata": {
        "id": "ac7d8535"
      },
      "source": [
        "<a target=\"_blank\" href=\"https://colab.research.google.com/github/jmanuelc87/nmp-autoavanza/blob/main/notebooks/MontePiedad_Rules.ipynb\">\n",
        "  <img src=\"https://colab.research.google.com/assets/colab-badge.svg\" alt=\"Open In Colab\"/>\n",
        "</a>"
      ]
    },
    {
      "cell_type": "code",
      "execution_count": 1,
      "id": "DioCF2bZqjev",
      "metadata": {
        "id": "DioCF2bZqjev"
      },
      "outputs": [],
      "source": [
        "import os\n",
        "import base64\n",
        "import itertools\n",
        "import functools\n",
        "import datetime\n",
        "\n",
        "from pydantic import BaseModel, Field\n",
        "\n",
        "from operator import itemgetter\n",
        "\n",
        "from rapidfuzz import fuzz, utils\n",
        "\n",
        "from langchain_core.tools import tool\n",
        "from langchain_core.output_parsers import PydanticToolsParser\n",
        "from langchain_core.prompts import ChatPromptTemplate\n",
        "from langchain_core.runnables.base import RunnableLambda\n",
        "from langchain_openai import ChatOpenAI\n",
        "from langchain_community.document_loaders.image import UnstructuredImageLoader"
      ]
    },
    {
      "cell_type": "code",
      "execution_count": 2,
      "id": "fe40e5d7",
      "metadata": {},
      "outputs": [],
      "source": [
        "if \"OPENAI_API_KEY\" not in os.environ:\n",
        "    os.environ['OPENAI_ORG_ID'] = '***'\n",
        "    os.environ['OPENAI_PROJECT_ID'] = '***'\n",
        "    os.environ['OPENAI_API_KEY'] = '***'"
      ]
    },
    {
      "cell_type": "code",
      "execution_count": 3,
      "id": "88349324",
      "metadata": {},
      "outputs": [],
      "source": [
        "llm = ChatOpenAI(\n",
        "    model=\"*\",\n",
        "    # model = \"gpt-4.1-mini\",\n",
        "    temperature=0,\n",
        "    base_url='http://localhost:1234/v1',\n",
        ")"
      ]
    },
    {
      "cell_type": "code",
      "execution_count": 4,
      "id": "5205267a",
      "metadata": {},
      "outputs": [],
      "source": [
        "extract = [\n",
        "    {\n",
        "        \"role\": \"system\",\n",
        "        \"content\": \"Eres un asistente servicial, usando OCR extraes los attributos que se te indiquen de la imagen y verificas que sean correctos comparandolo con el documento {doc_name}.\",\n",
        "    },\n",
        "    {\n",
        "        \"role\": \"user\",\n",
        "        \"content\": [\n",
        "            {\"type\": \"image_url\", \"image_url\": {\"url\": \"data:image/jpg;base64,{image}\"}},\n",
        "            {\"type\": \"text\", \"text\": \"El documento {doc_name}: {page_content}\"},\n",
        "        ],\n",
        "    },\n",
        "]"
      ]
    },
    {
      "cell_type": "code",
      "execution_count": 5,
      "id": "3447f2ca",
      "metadata": {},
      "outputs": [],
      "source": [
        "def load_image(inputs):\n",
        "    \"\"\"Load image from file and encode it as base64.\"\"\"\n",
        "    image_path = inputs[\"filename\"]\n",
        "  \n",
        "    def encode_image(image_path):\n",
        "        with open(image_path, \"rb\") as image_file:\n",
        "            return base64.b64encode(image_file.read()).decode('utf-8')\n",
        "    image_base64 = encode_image(image_path)\n",
        "    return image_base64"
      ]
    },
    {
      "cell_type": "code",
      "execution_count": 6,
      "id": "ca88e42a",
      "metadata": {},
      "outputs": [],
      "source": [
        "def load_unstructured_image(args):\n",
        "    loader = UnstructuredImageLoader(args[\"filename\"])\n",
        "    data = loader.load()\n",
        "    return data.pop().page_content"
      ]
    },
    {
      "cell_type": "code",
      "execution_count": 7,
      "id": "55d728b3",
      "metadata": {},
      "outputs": [],
      "source": [
        "loader1 = RunnableLambda(load_unstructured_image)\n",
        "loader2 = RunnableLambda(load_image)"
      ]
    },
    {
      "cell_type": "markdown",
      "id": "8c65393e",
      "metadata": {},
      "source": [
        "### Extraccion Factura"
      ]
    },
    {
      "cell_type": "code",
      "execution_count": 62,
      "id": "2f5b86ff",
      "metadata": {},
      "outputs": [],
      "source": [
        "file_url = \"https://drive.google.com/file/d/1jumrzIoMQ4VJS2kCl_1E-_4bOOMlYmU6/view?usp=drive_link\"\n",
        "image_url = \"https://drive.google.com/uc?export=download&id=1jumrzIoMQ4VJS2kCl_1E-_4bOOMlYmU6\"\n",
        "image1_path = \"./data/bronze/BASE_AUTOAVANZA/documentos_clean/FAC_FRENTE/Caso 1_TK 62853-1 FAC_FRENTE_otsu.jpg\""
      ]
    },
    {
      "cell_type": "code",
      "execution_count": 63,
      "id": "448b416b",
      "metadata": {},
      "outputs": [],
      "source": [
        "prompt_extraction = ChatPromptTemplate(messages=extract)"
      ]
    },
    {
      "cell_type": "code",
      "execution_count": 64,
      "id": "bef62df1",
      "metadata": {},
      "outputs": [],
      "source": [
        "class Factura(BaseModel):\n",
        "    nombre_cliente: str = Field(description=\"El nombre del cliente\")\n",
        "    marca: str = Field(description=\"La marca\")\n",
        "    linea: str = Field(description=\"La linea\")\n",
        "    modelo: str = Field(description=\"El modelo\")\n",
        "    clase: str = Field(description=\"La clase\")\n",
        "    tipo: str = Field(description=\"El tipo\")\n",
        "    combustible: str = Field(description=\"El tipo de combustible\")\n",
        "    no_serie: str = Field(description=\"El numero de serie del motor, NIV o VIN del vehiculo\")"
      ]
    },
    {
      "cell_type": "code",
      "execution_count": 65,
      "id": "857f8da2",
      "metadata": {},
      "outputs": [],
      "source": [
        "llm_with_fac_structured_output = llm.with_structured_output(Factura)"
      ]
    },
    {
      "cell_type": "code",
      "execution_count": 66,
      "id": "3f41ba78",
      "metadata": {},
      "outputs": [],
      "source": [
        "extract_fac_chain = (\n",
        "    {\n",
        "        \"page_content\": loader1,\n",
        "        \"image\": loader2,\n",
        "        \"doc_name\": itemgetter('doc_name'),\n",
        "    }\n",
        "    | prompt_extraction\n",
        "    | llm_with_fac_structured_output\n",
        ")"
      ]
    },
    {
      "cell_type": "code",
      "execution_count": 67,
      "id": "8cf348f9",
      "metadata": {},
      "outputs": [],
      "source": [
        "factura1 = extract_fac_chain.invoke(input={\n",
        "    \"filename\": image1_path,\n",
        "    \"doc_name\": \"Factura\",\n",
        "})"
      ]
    },
    {
      "cell_type": "code",
      "execution_count": 68,
      "id": "3150d987",
      "metadata": {},
      "outputs": [
        {
          "name": "stdout",
          "output_type": "stream",
          "text": [
            "nombre_cliente='RODRIGUEZ ELIZONDO FRANCISCO' marca='TOYOTA' linea='HILUX' modelo='2019' clase='CAMIONETA' tipo='HILUX DOB CAB SR' combustible='GASOLINA' no_serie='MROEX8DD2K0186450'\n"
          ]
        }
      ],
      "source": [
        "print(factura1)"
      ]
    },
    {
      "cell_type": "markdown",
      "id": "6dde6f24",
      "metadata": {},
      "source": [
        "### Extraccion Tarjeta de Circulacion"
      ]
    },
    {
      "cell_type": "code",
      "execution_count": 56,
      "id": "279bef9c",
      "metadata": {},
      "outputs": [],
      "source": [
        "file_url = \"https://drive.google.com/file/d/1MeG8nX0r9eOkAK5xH0oN4z330WQDnYMk/view?usp=drive_link\"\n",
        "image_url = \"https://drive.google.com/uc?export=download&id=1MeG8nX0r9eOkAK5xH0oN4z330WQDnYMk\"\n",
        "image2_path = \"./data/bronze/BASE_AUTOAVANZA/documentos_clean/TC_FRENTE/Caso 1_TK 62853-4 TC_FRENTE_clean.jpg\""
      ]
    },
    {
      "cell_type": "code",
      "execution_count": 57,
      "id": "031c689e",
      "metadata": {},
      "outputs": [],
      "source": [
        "class TarjetaCirculacion(BaseModel):\n",
        "    propietario: str = Field(description=\"El propietario o nombre del cliente\")\n",
        "    vehiculo: str = Field(description=\"El tipo de vehiculo\")\n",
        "    marca: str = Field(description=\"La marca\")\n",
        "    modelo: int = Field(description=\"El modelo del vehiculo\")\n",
        "    no_motor: str = Field(description=\"El numero de serie del motor\")\n",
        "    no_niv: str = Field(description=\"El numero de identificacion vehicular\")\n",
        "    expedicion: str = Field(description=\"La fecha de expedicion\")\n",
        "    vigencia: str = Field(description=\"La fecha de vigencia\")\n",
        "    placa: str = Field(description=\"El numero de placa\")"
      ]
    },
    {
      "cell_type": "code",
      "execution_count": 58,
      "id": "0493e3d6",
      "metadata": {},
      "outputs": [],
      "source": [
        "llm_with_tc_structured_output = llm.with_structured_output(TarjetaCirculacion)"
      ]
    },
    {
      "cell_type": "code",
      "execution_count": 59,
      "id": "83ccdd4b",
      "metadata": {},
      "outputs": [],
      "source": [
        "extract_tc_chain = (\n",
        "    {\n",
        "        \"page_content\": loader1,\n",
        "        \"image\": loader2,\n",
        "        \"doc_name\": itemgetter('doc_name'),\n",
        "    }\n",
        "    | prompt_extraction\n",
        "    | llm_with_tc_structured_output\n",
        ")"
      ]
    },
    {
      "cell_type": "code",
      "execution_count": 60,
      "id": "6bdb3984",
      "metadata": {},
      "outputs": [],
      "source": [
        "tc1 = extract_tc_chain.invoke(input={\n",
        "    \"filename\": image2_path,\n",
        "    \"doc_name\": \"Tarjeta de Circulacion\",\n",
        "})"
      ]
    },
    {
      "cell_type": "code",
      "execution_count": 61,
      "id": "e238dca0",
      "metadata": {},
      "outputs": [
        {
          "name": "stdout",
          "output_type": "stream",
          "text": [
            "propietario='FRANCISCO RODRIGUEZ ELIZONDO' vehiculo='HILUX 4 PUERTAS' marca='TOYOTA' modelo=2019 no_motor='2TRABOIBGS' no_niv='MROEX8DD2K0186450' expedicion='2021-09-02' vigencia='2025-09-02' placa='JW27321'\n"
          ]
        }
      ],
      "source": [
        "print(tc1)"
      ]
    },
    {
      "cell_type": "markdown",
      "id": "5506a839",
      "metadata": {},
      "source": [
        "### Extraccion INE"
      ]
    },
    {
      "cell_type": "code",
      "execution_count": 44,
      "id": "2965e996",
      "metadata": {},
      "outputs": [],
      "source": [
        "file_url = \"https://drive.google.com/file/d/1UKl8M0aMXJqN74iRPL9HFki8UvAdppa1/view?usp=drive_link\"\n",
        "image_url = \"https://drive.google.com/uc?export=download&id=1UKl8M0aMXJqN74iRPL9HFki8UvAdppa1\"\n",
        "image3_path = \"./data/bronze/BASE_AUTOAVANZA/Caso 1/TK 62853-2 INE_FRENTE.png\""
      ]
    },
    {
      "cell_type": "code",
      "execution_count": 45,
      "id": "4587930f",
      "metadata": {},
      "outputs": [],
      "source": [
        "class INE(BaseModel):\n",
        "    nombre: str = Field(description=\"El nombre de la persona\")\n",
        "    domicilio: str = Field(description=\"El domicilio de la persona\")\n",
        "    emision: int = Field(description=\"La fecha de emision\")\n",
        "    vigencia: int = Field(description=\"La fecha de vigencia\")"
      ]
    },
    {
      "cell_type": "code",
      "execution_count": 46,
      "id": "6c4cec40",
      "metadata": {},
      "outputs": [],
      "source": [
        "llm_with_ine_structured_output = llm.with_structured_output(INE)"
      ]
    },
    {
      "cell_type": "code",
      "execution_count": 47,
      "id": "736b8874",
      "metadata": {},
      "outputs": [],
      "source": [
        "extract_ine_chain = (\n",
        "    {\n",
        "        \"page_content\": loader1,\n",
        "        \"image\": loader2,\n",
        "        \"doc_name\": itemgetter('doc_name'),\n",
        "    }\n",
        "    | prompt_extraction\n",
        "    | llm_with_ine_structured_output\n",
        ")"
      ]
    },
    {
      "cell_type": "code",
      "execution_count": 48,
      "id": "dfba0e9b",
      "metadata": {},
      "outputs": [],
      "source": [
        "ine1 = extract_ine_chain.invoke(input={\n",
        "    \"filename\": image3_path,\n",
        "    \"doc_name\": \"Credencial para Votar\",\n",
        "})"
      ]
    },
    {
      "cell_type": "code",
      "execution_count": 49,
      "id": "210a6e13",
      "metadata": {},
      "outputs": [
        {
          "name": "stdout",
          "output_type": "stream",
          "text": [
            "nombre='RODRIGUEZ ELIZONDO FRANCISCO' domicilio='PRIV HIDALGO PONIENTE 546 INT 4, LOC ZAPOTILTIC CENTRO 49600 ZAPOTILTIC, JAL.' emision=2019 vigencia=2029\n"
          ]
        }
      ],
      "source": [
        "print(ine1)"
      ]
    },
    {
      "cell_type": "markdown",
      "id": "43001e28",
      "metadata": {},
      "source": [
        "# Reglas para validar documentos"
      ]
    },
    {
      "cell_type": "markdown",
      "id": "9edf6268",
      "metadata": {},
      "source": [
        "Se definen ciertas reglas para validar documentos como se especifica a continuacion."
      ]
    },
    {
      "cell_type": "markdown",
      "id": "fa963995",
      "metadata": {},
      "source": [
        "1. Se debe verificar la coincidencia del nombre del solicitante en la INE, Tarjeta de circulacion y Factura."
      ]
    },
    {
      "cell_type": "code",
      "execution_count": null,
      "id": "b99fd15f",
      "metadata": {},
      "outputs": [],
      "source": [
        "def compare_doc_names(factura: Factura, tc: TarjetaCirculacion, ine: INE) -> str:\n",
        "    \"\"\"Compara el nombre del cliente en los documentos Factura, Tarjeta de Circulacion y Credencial para Votar\n",
        "\n",
        "    Args:\n",
        "        factura (Factura): La factura del vehiculo\n",
        "        tc (TarjetaCirculacion): La Tarjeta de circulacion\n",
        "        cv (CredencialVotar): La Credencial para votar\n",
        "\n",
        "    Returns:\n",
        "        str: El resultado de la validacion es aprovado o rechazado \n",
        "    \"\"\"\n",
        "    wr1 = fuzz.WRatio(factura['nombre_cliente'], tc['propietario'], processor=utils.default_process)\n",
        "    wr2 = fuzz.WRatio(factura['nombre_cliente'], ine['nombre'], processor=utils.default_process)\n",
        "    wr3 = fuzz.WRatio(tc['propietario'], ine['nombre'], processor=utils.default_process)\n",
        "\n",
        "    if wr1 >= 90. and wr2 >= 90. and wr3 >= 90.:\n",
        "        return \"Validado correctamente el nombre del cliente!\"\n",
        "    elif 70. <= wr1 < 90. and 70. <= wr2 < 90. and 70. <= wr3 < 90.:\n",
        "        return \"Favor de verificar que el nombre aparezca correctamente en los tres documentos\"\n",
        "    else:\n",
        "        return \"El nombre no aparece correctamente en los tres documentos\""
      ]
    },
    {
      "cell_type": "markdown",
      "id": "25a07fcf",
      "metadata": {},
      "source": [
        "2. Se debe verificar el NIV es el mismo en la tarjeta de circulación y factura"
      ]
    },
    {
      "cell_type": "code",
      "execution_count": null,
      "id": "94c87034",
      "metadata": {},
      "outputs": [],
      "source": [
        "def compare_doc_vin(factura: Factura, tc:TarjetaCirculacion) -> str:\n",
        "    \"\"\"Compara el numero de serie del vehiculo, NIV O VIN en la factura y tarjeta de circulacion\n",
        "\n",
        "    Args:\n",
        "        factura (Factura): La Factura\n",
        "        tc (TarjetaCirculacion): La Tarjeta de Circulacion\n",
        "\n",
        "    Returns:\n",
        "        str: El resultado de la validacion es aprovado o rechazado\n",
        "    \"\"\"\n",
        "\n",
        "    wr = fuzz.WRatio(factura['no_serie'], tc['no_niv'])\n",
        "\n",
        "    if wr >= 90.:\n",
        "        return \"El NIV aparace correctamente.\"\n",
        "    elif 75. <= wr < 90.:\n",
        "        return \"Favor de verificar que el NIV aparezca correctamente en los documentos\"\n",
        "    else:\n",
        "        return \"El NIV es distinto. Favor de verficar\""
      ]
    },
    {
      "cell_type": "markdown",
      "id": "6c8bec05",
      "metadata": {},
      "source": [
        "3. Se debe comparar los datos del vehiculo (marca, linea y modelo) en la tarjeta de circulacion y factura"
      ]
    },
    {
      "cell_type": "code",
      "execution_count": null,
      "id": "830379b6",
      "metadata": {},
      "outputs": [],
      "source": [
        "def compare_vehicle_data(factura: Factura, tc: TarjetaCirculacion) -> str:\n",
        "    \"\"\"Compara la marca, linea y modelo del vehiculo en la factura y tarjeta de circulacion\n",
        "\n",
        "    Args:\n",
        "        factura (Factura): La Factura\n",
        "        tc (TarjetaCirculacion): La Tarjeta de Circulacion\n",
        "\n",
        "    Returns:\n",
        "        str: El resultado de la validacion es aprovado o rechazado\n",
        "    \"\"\"\n",
        "    result = []\n",
        "\n",
        "    wr = fuzz.WRatio(factura[\"marca\"], tc[\"marca\"])\n",
        "\n",
        "    if wr < 90.0:\n",
        "        label = f\"La marca del vehiculo es distinto. Favor de verificar\"\n",
        "        result.append(label)\n",
        "\n",
        "    wr = fuzz.WRatio(factura['linea'], tc['vehiculo'])\n",
        "\n",
        "    if wr < 90.0:\n",
        "        label = \"La linea del vehiculo es distinta. Favor de verificar\"\n",
        "        result.append(label)\n",
        "\n",
        "    wr = fuzz.WRatio(factura['modelo'], tc['modelo'])\n",
        "\n",
        "    if wr < 90.0:\n",
        "        label = \"El modelo del vehiculo es distinto. Favor de verificar\"\n",
        "        result.append(label)\n",
        "\n",
        "    if len(result) == 0:\n",
        "        result.append(\"Datos del vehiculo correctos!\")\n",
        "\n",
        "    return result"
      ]
    },
    {
      "cell_type": "code",
      "execution_count": null,
      "id": "91bcb49c",
      "metadata": {},
      "outputs": [],
      "source": [
        "validate = [\n",
        "    {\n",
        "        \"role\": \"system\",\n",
        "        \"content\": \"Eres un asistente servicial.\",\n",
        "    },\n",
        "    {\n",
        "        \"role\": \"user\",\n",
        "        \"content\": [\n",
        "            {\"type\": \"text\", \"text\":\"La Factura\\n{factura}\\n\\n\"},\n",
        "            {\"type\": \"text\", \"text\":\"La Tarjeta de Circulacion\\n{tc}\\n\\n\"},\n",
        "            {\"type\": \"text\", \"text\":\"La Credencial para Votar\\n{cv}\\n\\n\"},\n",
        "            {\"type\": \"text\", \"text\":\"Realiza {comparation} documentos.\\n\"},\n",
        "        ],\n",
        "    }\n",
        "]"
      ]
    },
    {
      "cell_type": "code",
      "execution_count": null,
      "id": "2cbb598d",
      "metadata": {},
      "outputs": [],
      "source": [
        "validate_prompt = ChatPromptTemplate.from_messages(validate)"
      ]
    },
    {
      "cell_type": "code",
      "execution_count": null,
      "id": "e9f94601",
      "metadata": {},
      "outputs": [],
      "source": [
        "tools=[compare_doc_names, compare_doc_vin, compare_vehicle_data]"
      ]
    },
    {
      "cell_type": "code",
      "execution_count": null,
      "id": "187a7672",
      "metadata": {},
      "outputs": [],
      "source": [
        "llm_with_tools = llm.bind_tools(tools=tools)"
      ]
    },
    {
      "cell_type": "code",
      "execution_count": null,
      "id": "41f4365f",
      "metadata": {},
      "outputs": [],
      "source": [
        "validations = [\"la comparacion del nombre del cliente\", \"la comparacion del numero de serie, VIN o NIV\", \"la comparacion de la marca, linea y modelo del vehiculo\"]"
      ]
    },
    {
      "cell_type": "code",
      "execution_count": null,
      "id": "aa05c1c2",
      "metadata": {},
      "outputs": [],
      "source": [
        "def validate_documents(inputs, validations, tools):\n",
        "    chain = validate_prompt | llm_with_tools | PydanticToolsParser(tools=tools)\n",
        "\n",
        "    for validation in validations:\n",
        "        result = chain.invoke(input={\n",
        "            \"comparation\": validation,\n",
        "            **inputs,\n",
        "        })\n",
        "\n",
        "        if isinstance(result[0], list):\n",
        "            result = list(itertools.chain.from_iterable(result))\n",
        "        \n",
        "        yield result"
      ]
    },
    {
      "cell_type": "code",
      "execution_count": null,
      "id": "1c834287",
      "metadata": {},
      "outputs": [],
      "source": [
        "validation = RunnableLambda(functools.partial(validate_documents, validations=validations, tools=tools))"
      ]
    },
    {
      "cell_type": "code",
      "execution_count": null,
      "id": "ae3a4916",
      "metadata": {},
      "outputs": [],
      "source": [
        "chain = {\n",
        "    \"factura\": {\n",
        "        \"filename\": itemgetter(\"factura\"),\n",
        "        \"doc_name\": lambda x: \"Factura\",\n",
        "    }\n",
        "    | extract_fac_chain,\n",
        "    \"tc\": {\n",
        "        \"filename\": itemgetter(\"tarjeta_circulacion\"),\n",
        "        \"doc_name\": lambda x: \"Tarjeta de Circulacion\",\n",
        "    }\n",
        "    | extract_tc_chain,\n",
        "    \"cv\": {\n",
        "        \"filename\": itemgetter(\"credencial_votar\"),\n",
        "        \"doc_name\": lambda x: \"Credencial para Votar\"\n",
        "    }\n",
        "    | extract_ine_chain,\n",
        "} | validation"
      ]
    },
    {
      "cell_type": "code",
      "execution_count": null,
      "id": "1e1f4f79",
      "metadata": {},
      "outputs": [],
      "source": [
        "for e in chain.stream({\n",
        "    \"factura\": image1_path,\n",
        "    \"tarjeta_circulacion\": image2_path,\n",
        "    \"credencial_votar\": image3_path,\n",
        "}):\n",
        "    print(e)"
      ]
    }
  ],
  "metadata": {
    "colab": {
      "provenance": []
    },
    "kernelspec": {
      "display_name": ".venv",
      "language": "python",
      "name": "python3"
    },
    "language_info": {
      "codemirror_mode": {
        "name": "ipython",
        "version": 3
      },
      "file_extension": ".py",
      "mimetype": "text/x-python",
      "name": "python",
      "nbconvert_exporter": "python",
      "pygments_lexer": "ipython3",
      "version": "3.10.16"
    }
  },
  "nbformat": 4,
  "nbformat_minor": 5
}
