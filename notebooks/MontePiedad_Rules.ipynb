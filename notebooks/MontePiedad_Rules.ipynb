{
  "cells": [
    {
      "cell_type": "markdown",
      "id": "ac7d8535",
      "metadata": {
        "id": "ac7d8535"
      },
      "source": [
        "<a target=\"_blank\" href=\"https://colab.research.google.com/github/jmanuelc87/nmp-autoavanza/blob/main/notebooks/MontePiedad_Rules.ipynb\">\n",
        "  <img src=\"https://colab.research.google.com/assets/colab-badge.svg\" alt=\"Open In Colab\"/>\n",
        "</a>"
      ]
    },
    {
      "cell_type": "markdown",
      "id": "c8d2d1c5",
      "metadata": {},
      "source": [
        "### Imports and Definitions"
      ]
    },
    {
      "cell_type": "code",
      "execution_count": 1,
      "id": "DioCF2bZqjev",
      "metadata": {
        "id": "DioCF2bZqjev"
      },
      "outputs": [],
      "source": [
        "import os\n",
        "import dotenv\n",
        "import base64\n",
        "import datetime\n",
        "import itertools\n",
        "import functools\n",
        "\n",
        "from pydantic import BaseModel, Field\n",
        "\n",
        "from operator import itemgetter\n",
        "\n",
        "from rapidfuzz import fuzz, utils\n",
        "\n",
        "from langchain_core.tools import tool\n",
        "from langchain_core.output_parsers import PydanticToolsParser\n",
        "from langchain_core.prompts import ChatPromptTemplate\n",
        "from langchain_core.runnables import RunnableLambda, RunnablePassthrough, RunnableParallel, RunnablePick\n",
        "from langchain_openai import ChatOpenAI\n",
        "from langchain_community.document_loaders.image import UnstructuredImageLoader"
      ]
    },
    {
      "cell_type": "code",
      "execution_count": 2,
      "id": "f4bd60f7",
      "metadata": {},
      "outputs": [],
      "source": [
        "env = dotenv.find_dotenv()\n",
        "enable_open_ai = True\n",
        "enable_lang_smith = False"
      ]
    },
    {
      "cell_type": "code",
      "execution_count": 3,
      "id": "fe40e5d7",
      "metadata": {},
      "outputs": [],
      "source": [
        "if enable_open_ai:\n",
        "    os.environ[\"OPENAI_ORG_ID\"] = dotenv.get_key(env, \"org_id\")\n",
        "    os.environ[\"OPENAI_PROJECT_ID\"] = dotenv.get_key(env, \"proj_id\")\n",
        "    os.environ[\"OPENAI_API_KEY\"] = dotenv.get_key(env, \"api_key\")\n",
        "else:\n",
        "    os.environ[\"OPENAI_ORG_ID\"] = \"***\"\n",
        "    os.environ[\"OPENAI_PROJECT_ID\"] = \"***\"\n",
        "    os.environ[\"OPENAI_API_KEY\"] = \"***\"\n",
        "\n",
        "if enable_lang_smith:\n",
        "    os.environ[\"LANGSMITH_TRACING\"] = \"true\"\n",
        "    os.environ[\"LANGSMITH_ENDPOINT\"] = \"https://api.smith.langchain.com\"\n",
        "    os.environ[\"LANGSMITH_API_KEY\"] = dotenv.get_key(env, \"langsmith_api_key\")\n",
        "    os.environ[\"LANGSMITH_PROJECT\"] = \"pr-husky-stencil-39\""
      ]
    },
    {
      "cell_type": "code",
      "execution_count": 4,
      "id": "88349324",
      "metadata": {},
      "outputs": [],
      "source": [
        "llm = ChatOpenAI(\n",
        "    # model=\"*\",\n",
        "    model = \"gpt-4.1-mini\",\n",
        "    temperature=0.17,\n",
        "    # base_url='http://localhost:1234/v1',\n",
        ")"
      ]
    },
    {
      "cell_type": "code",
      "execution_count": 5,
      "id": "5205267a",
      "metadata": {},
      "outputs": [],
      "source": [
        "extract = [\n",
        "    {\n",
        "        \"role\": \"system\",\n",
        "        \"content\": \"Eres un asistente servicial, usando OCR extraes los attributos que se te indiquen de la imagen y verificas que sean correctos comparandolo con el documento {doc_name}.\",\n",
        "    },\n",
        "    {\n",
        "        \"role\": \"user\",\n",
        "        \"content\": [\n",
        "            {\"type\": \"image_url\", \"image_url\": {\"url\": \"data:image/jpg;base64,{image}\"}},\n",
        "            {\"type\": \"text\", \"text\": \"El documento {doc_name}: {page_content}\"},\n",
        "        ],\n",
        "    },\n",
        "]"
      ]
    },
    {
      "cell_type": "code",
      "execution_count": 6,
      "id": "3447f2ca",
      "metadata": {},
      "outputs": [],
      "source": [
        "def load_image(inputs):\n",
        "    \"\"\"Load image from file and encode it as base64.\"\"\"\n",
        "    image_path = inputs[\"filename\"]\n",
        "  \n",
        "    def encode_image(image_path):\n",
        "        with open(image_path, \"rb\") as image_file:\n",
        "            return base64.b64encode(image_file.read()).decode('utf-8')\n",
        "    image_base64 = encode_image(image_path)\n",
        "    return image_base64"
      ]
    },
    {
      "cell_type": "code",
      "execution_count": 7,
      "id": "ca88e42a",
      "metadata": {},
      "outputs": [],
      "source": [
        "def load_unstructured_image(args):\n",
        "    loader = UnstructuredImageLoader(args[\"filename\"])\n",
        "    data = loader.load()\n",
        "    return data.pop().page_content"
      ]
    },
    {
      "cell_type": "code",
      "execution_count": 8,
      "id": "55d728b3",
      "metadata": {},
      "outputs": [],
      "source": [
        "loader1 = RunnableLambda(load_unstructured_image)\n",
        "loader2 = RunnableLambda(load_image)"
      ]
    },
    {
      "cell_type": "markdown",
      "id": "8c65393e",
      "metadata": {},
      "source": [
        "### Extraccion Factura"
      ]
    },
    {
      "cell_type": "code",
      "execution_count": 9,
      "id": "2f5b86ff",
      "metadata": {},
      "outputs": [],
      "source": [
        "image1_path = \"./data/bronze/BASE_AUTOAVANZA/documentos_clean/FAC_FRENTE/Caso 2_TK 63075-1 FAC_FRENTE_otsu.jpg\""
      ]
    },
    {
      "cell_type": "code",
      "execution_count": 10,
      "id": "448b416b",
      "metadata": {},
      "outputs": [],
      "source": [
        "prompt_extraction = ChatPromptTemplate(messages=extract)"
      ]
    },
    {
      "cell_type": "code",
      "execution_count": 11,
      "id": "bef62df1",
      "metadata": {},
      "outputs": [],
      "source": [
        "class Factura(BaseModel):\n",
        "    nombre_cliente: str = Field(description=\"El nombre del cliente\")\n",
        "    marca: str = Field(description=\"La marca\")\n",
        "    linea: str = Field(description=\"La linea\")\n",
        "    modelo: int = Field(description=\"El modelo\")\n",
        "    clase: str = Field(description=\"La clase\")\n",
        "    tipo: str = Field(description=\"El tipo\")\n",
        "    combustible: str = Field(description=\"El tipo de combustible\")\n",
        "    no_serie: str = Field(description=\"El numero de serie, NIV o VIN\")\n",
        "    no_motor: str = Field(description=\"El numero de motor\")"
      ]
    },
    {
      "cell_type": "code",
      "execution_count": 12,
      "id": "857f8da2",
      "metadata": {},
      "outputs": [],
      "source": [
        "llm_with_fac_structured_output = llm.with_structured_output(Factura)"
      ]
    },
    {
      "cell_type": "code",
      "execution_count": 13,
      "id": "3f41ba78",
      "metadata": {},
      "outputs": [],
      "source": [
        "extract_fac_chain = (\n",
        "    {\n",
        "        \"page_content\": loader1,\n",
        "        \"image\": loader2,\n",
        "        \"doc_name\": itemgetter(\"doc_name\"),\n",
        "    }\n",
        "    | prompt_extraction\n",
        "    | llm_with_fac_structured_output\n",
        ")"
      ]
    },
    {
      "cell_type": "markdown",
      "id": "6dde6f24",
      "metadata": {},
      "source": [
        "### Extraccion Tarjeta de Circulacion"
      ]
    },
    {
      "cell_type": "code",
      "execution_count": 14,
      "id": "279bef9c",
      "metadata": {},
      "outputs": [],
      "source": [
        "image2_path = \"./data/bronze/BASE_AUTOAVANZA/documentos_clean/TC_FRENTE/Caso 2_TK 63075-5 TC_FRENTE_crop_binary.jpg\""
      ]
    },
    {
      "cell_type": "code",
      "execution_count": 15,
      "id": "031c689e",
      "metadata": {},
      "outputs": [],
      "source": [
        "class TarjetaCirculacion(BaseModel):\n",
        "    propietario: str = Field(description=\"El propietario o nombre del cliente\")\n",
        "    vehiculo: str = Field(description=\"El tipo de vehiculo\")\n",
        "    marca: str = Field(description=\"La marca\")\n",
        "    modelo: int = Field(description=\"El modelo del vehiculo\")\n",
        "    no_motor: str = Field(description=\"El numero de serie del motor\")\n",
        "    no_niv: str = Field(description=\"El numero de identificacion vehicular\")\n",
        "    expedicion: str = Field(description=\"La fecha de expedicion\")\n",
        "    vigencia: str = Field(description=\"La fecha de vigencia\")\n",
        "    placa: str = Field(description=\"El numero de placa\")"
      ]
    },
    {
      "cell_type": "code",
      "execution_count": 16,
      "id": "0493e3d6",
      "metadata": {},
      "outputs": [],
      "source": [
        "llm_with_tc_structured_output = llm.with_structured_output(TarjetaCirculacion)"
      ]
    },
    {
      "cell_type": "code",
      "execution_count": 17,
      "id": "83ccdd4b",
      "metadata": {},
      "outputs": [],
      "source": [
        "extract_tc_chain = (\n",
        "    {\n",
        "        \"page_content\": loader1,\n",
        "        \"image\": loader2,\n",
        "        \"doc_name\": itemgetter('doc_name'),\n",
        "    }\n",
        "    | prompt_extraction\n",
        "    | llm_with_tc_structured_output\n",
        ")"
      ]
    },
    {
      "cell_type": "markdown",
      "id": "5506a839",
      "metadata": {},
      "source": [
        "### Extraccion INE"
      ]
    },
    {
      "cell_type": "code",
      "execution_count": 18,
      "id": "2965e996",
      "metadata": {},
      "outputs": [],
      "source": [
        "image3_path = \"./data/bronze/BASE_AUTOAVANZA/documentos_clean/INE_FRENTE/Caso 2_TK 63075-3 INE_FRENTE_crop_binary.jpg\""
      ]
    },
    {
      "cell_type": "code",
      "execution_count": 19,
      "id": "4587930f",
      "metadata": {},
      "outputs": [],
      "source": [
        "class CredencialVotar(BaseModel):\n",
        "    nombre: str = Field(description=\"El nombre de la persona\")\n",
        "    domicilio: str = Field(description=\"El domicilio de la persona\")\n",
        "    emision: int = Field(description=\"La fecha de emision\")\n",
        "    vigencia: int = Field(description=\"La fecha de vigencia\")"
      ]
    },
    {
      "cell_type": "code",
      "execution_count": 20,
      "id": "6c4cec40",
      "metadata": {},
      "outputs": [],
      "source": [
        "llm_with_ine_structured_output = llm.with_structured_output(CredencialVotar)"
      ]
    },
    {
      "cell_type": "code",
      "execution_count": 21,
      "id": "736b8874",
      "metadata": {},
      "outputs": [],
      "source": [
        "extract_ine_chain = (\n",
        "    {\n",
        "        \"page_content\": loader1,\n",
        "        \"image\": loader2,\n",
        "        \"doc_name\": itemgetter('doc_name'),\n",
        "    }\n",
        "    | prompt_extraction\n",
        "    | llm_with_ine_structured_output\n",
        ")"
      ]
    },
    {
      "cell_type": "markdown",
      "id": "43001e28",
      "metadata": {},
      "source": [
        "# Reglas para validar documentos"
      ]
    },
    {
      "cell_type": "markdown",
      "id": "9edf6268",
      "metadata": {},
      "source": [
        "Se definen ciertas reglas para validar documentos como se especifica a continuacion."
      ]
    },
    {
      "cell_type": "markdown",
      "id": "fa963995",
      "metadata": {},
      "source": [
        "1. Se debe verificar la coincidencia del nombre del solicitante en la INE, Tarjeta de circulacion y Factura."
      ]
    },
    {
      "cell_type": "code",
      "execution_count": 22,
      "id": "b99fd15f",
      "metadata": {},
      "outputs": [],
      "source": [
        "def compare_doc_names(factura: Factura, tarjeta_circulacion: TarjetaCirculacion, credencial_votar: CredencialVotar, **kwargs) -> str:\n",
        "    \"\"\"Compara el propietario o nombre en los documentos Factura, Tarjeta de Circulacion y Credencial para Votar\n",
        "\n",
        "    Args:\n",
        "        factura (Factura): La factura del vehiculo\n",
        "        tarjeta_circulacion (TarjetaCirculacion): La Tarjeta de circulacion\n",
        "        credencial_votar (CredencialVotar): La Credencial para Votar\n",
        "\n",
        "    Returns:\n",
        "        str: El resultado de la validacion es aprovado o rechazado \n",
        "    \"\"\"\n",
        "    wr1 = fuzz.WRatio(factura.nombre_cliente, tarjeta_circulacion.propietario, processor=utils.default_process)\n",
        "    wr2 = fuzz.WRatio(factura.nombre_cliente, credencial_votar.nombre, processor=utils.default_process)\n",
        "    wr3 = fuzz.WRatio(tarjeta_circulacion.propietario, credencial_votar.nombre, processor=utils.default_process)\n",
        "\n",
        "    if wr1 >= 90. and wr2 >= 90. and wr3 >= 90.:\n",
        "        return \"El nombre del propietario es correcto!\"\n",
        "    elif 70. <= wr1 < 90. and 70. <= wr2 < 90. and 70. <= wr3 < 90.:\n",
        "        return \"Favor de verificar que el nombre aparezca correctamente en los tres documentos\"\n",
        "    else:\n",
        "        return \"El nombre no aparece correctamente en los documentos\""
      ]
    },
    {
      "cell_type": "markdown",
      "id": "25a07fcf",
      "metadata": {},
      "source": [
        "2. Se debe verificar el NIV es el mismo en la tarjeta de circulación y factura"
      ]
    },
    {
      "cell_type": "code",
      "execution_count": 23,
      "id": "94c87034",
      "metadata": {},
      "outputs": [],
      "source": [
        "def compare_vin(factura: Factura, tarjeta_circulacion:TarjetaCirculacion, **kwargs) -> str:\n",
        "    \"\"\"Compara el numero de serie, NIV o VIN en la factura y tarjeta de circulacion\n",
        "\n",
        "    Args:\n",
        "        factura (Factura): La Factura\n",
        "        tc (TarjetaCirculacion): La Tarjeta de Circulacion\n",
        "\n",
        "    Returns:\n",
        "        str: El resultado de la validacion es aprovado o rechazado\n",
        "    \"\"\"\n",
        "\n",
        "    wr = fuzz.WRatio(factura.no_serie, tarjeta_circulacion.no_niv)\n",
        "\n",
        "    result = []\n",
        "\n",
        "    if wr >= 90.:\n",
        "        result.append(\"El NIV del vehiculo es correcto!\")\n",
        "    else:\n",
        "        result.append(\"El NIV es distinto. Se tiene que rechazar el tramite!\")\n",
        "\n",
        "    wr2 = fuzz.WRatio(factura.no_motor, tarjeta_circulacion.no_motor)\n",
        "\n",
        "    if wr >= 90.:\n",
        "        result.append(\"El numero de serie del motor es correcto!\")\n",
        "    else:\n",
        "        result.append(\"El numero de serie del motor no coincide\")\n",
        "\n",
        "    return result"
      ]
    },
    {
      "cell_type": "markdown",
      "id": "6c8bec05",
      "metadata": {},
      "source": [
        "3. Se debe comparar los datos del vehiculo (marca, linea y modelo) en la tarjeta de circulacion y factura"
      ]
    },
    {
      "cell_type": "code",
      "execution_count": 24,
      "id": "830379b6",
      "metadata": {},
      "outputs": [],
      "source": [
        "def compare_vehicle_data(factura: Factura, tarjeta_circulacion: TarjetaCirculacion, **kwargs) -> str:\n",
        "    \"\"\"Compara la marca, linea y modelo del vehiculo en la factura y tarjeta de circulacion\n",
        "\n",
        "    Args:\n",
        "        factura (Factura): La Factura\n",
        "        tc (TarjetaCirculacion): La Tarjeta de Circulacion\n",
        "\n",
        "    Returns:\n",
        "        str: El resultado de la validacion es aprovado o rechazado\n",
        "    \"\"\"\n",
        "    result = []\n",
        "\n",
        "    wr = fuzz.WRatio(factura.marca, tarjeta_circulacion.marca)\n",
        "\n",
        "    if wr < 90.0:\n",
        "        label = f\"La marca del vehiculo es distinto. Favor de verificar\"\n",
        "        result.append(label)\n",
        "\n",
        "    wr = fuzz.WRatio(factura.linea, tarjeta_circulacion.vehiculo)\n",
        "\n",
        "    if wr < 90.0:\n",
        "        label = \"La linea del vehiculo es distinta. Favor de verificar\"\n",
        "        result.append(label)\n",
        "\n",
        "    wr = fuzz.WRatio(str(factura.modelo), str(tarjeta_circulacion.modelo))\n",
        "\n",
        "    if wr < 90.0:\n",
        "        label = \"El modelo del vehiculo es distinto. Favor de verificar\"\n",
        "        result.append(label)\n",
        "\n",
        "    if len(result) == 0:\n",
        "        result.append(\"Los datos del vehiculo son correctos!\")\n",
        "\n",
        "    return result"
      ]
    },
    {
      "cell_type": "markdown",
      "id": "61129a51",
      "metadata": {},
      "source": [
        "9. Se debe verificar el numero de motor contra la tarjeta de circulacion"
      ]
    },
    {
      "cell_type": "code",
      "execution_count": 25,
      "id": "bf5505c6",
      "metadata": {},
      "outputs": [],
      "source": [
        "def compare_motor(factura: Factura, tarjeta_circulacion: TarjetaCirculacion, **kwargs) -> str:\n",
        "    \"\"\"Compara el motor en la Factura y Tarjeta de Circulacion\n",
        "\n",
        "    Args:\n",
        "        factura (Factura): La Factura\n",
        "        tc (TarjetaCirculacion): La Tarjeta de Circulacion\n",
        "\n",
        "    Returns:\n",
        "        str: El resultado de la validacion es approvado o rechazado\n",
        "    \"\"\"\n",
        "    wr = fuzz.WRatio(factura.no_motor, tarjeta_circulacion.no_motor)\n",
        "    \n",
        "    if wr < 90.0:\n",
        "        return \"El numero de motor del vehiculo es distinto. Favor de verificar\"\n",
        "    \n",
        "    return \"El numero de motor es correcto!\""
      ]
    },
    {
      "cell_type": "code",
      "execution_count": 26,
      "id": "055475fe",
      "metadata": {},
      "outputs": [],
      "source": [
        "def check_validity(credencial_votar: CredencialVotar, **kwargs) -> str:\n",
        "    \"\"\"Verfica la validez de la credencial para votar\n",
        "\n",
        "    Args:\n",
        "        ine (CredencialVotar): La credencial para votar\n",
        "\n",
        "    Returns:\n",
        "        str: El resultado de la validacion es approvador o rechazado\n",
        "    \"\"\"\n",
        "    current_year = datetime.datetime.now().year\n",
        "    if current_year > credencial_votar.vigencia:\n",
        "        return \"La Credencial para Votar no esta vigente\"\n",
        "    return \"La Credencial para Votar es vigente\""
      ]
    },
    {
      "cell_type": "code",
      "execution_count": 27,
      "id": "e9f94601",
      "metadata": {},
      "outputs": [],
      "source": [
        "# All the functions need to receive the `kwargs` arguments for it to work in the validate_documents loop.\n",
        "tools=[compare_doc_names, compare_vin, compare_vehicle_data, compare_motor, check_validity]"
      ]
    },
    {
      "cell_type": "code",
      "execution_count": 28,
      "id": "aa05c1c2",
      "metadata": {},
      "outputs": [],
      "source": [
        "def validate_documents(inputs, tools):\n",
        "    \"\"\"Validacion de los documentos\n",
        "\n",
        "    Args:\n",
        "        inputs (dict): Los datos proporcionados por el llm\n",
        "        tools (list): Las herramientas que validaran los documentos\n",
        "\n",
        "    Yields:\n",
        "        str: el resultado de la validacion \n",
        "    \"\"\"\n",
        "    results = []\n",
        "    for tool in tools:\n",
        "        result = tool(**inputs)\n",
        "        if isinstance(result, list):\n",
        "            results.extend(result)\n",
        "        else:\n",
        "            results.append(result)\n",
        "    return results"
      ]
    },
    {
      "cell_type": "code",
      "execution_count": 29,
      "id": "1c834287",
      "metadata": {},
      "outputs": [],
      "source": [
        "validation = RunnableLambda(functools.partial(validate_documents, tools=tools))"
      ]
    },
    {
      "cell_type": "code",
      "execution_count": 30,
      "id": "ae3a4916",
      "metadata": {},
      "outputs": [],
      "source": [
        "chain = {\n",
        "    \"factura\": {\n",
        "        \"filename\": itemgetter(\"factura\"),\n",
        "        \"doc_name\": lambda x: \"Factura\",\n",
        "    }\n",
        "    | extract_fac_chain,\n",
        "    \"tarjeta_circulacion\": {\n",
        "        \"filename\": itemgetter(\"tc\"),\n",
        "        \"doc_name\": lambda x: \"Tarjeta de Circulacion\",\n",
        "    }\n",
        "    | extract_tc_chain,\n",
        "    \"credencial_votar\": {\n",
        "        \"filename\": itemgetter(\"ine\"),\n",
        "        \"doc_name\": lambda x: \"Credencial para Votar\"\n",
        "    }\n",
        "    | extract_ine_chain,\n",
        "} | validation"
      ]
    },
    {
      "cell_type": "markdown",
      "id": "c9b174d6",
      "metadata": {},
      "source": [
        "## Caso 2"
      ]
    },
    {
      "cell_type": "code",
      "execution_count": 31,
      "id": "1e1f4f79",
      "metadata": {},
      "outputs": [
        {
          "data": {
            "text/plain": [
              "['El nombre del propietario es correcto!',\n",
              " 'El NIV del vehiculo es correcto!',\n",
              " 'El numero de serie del motor es correcto!',\n",
              " 'La linea del vehiculo es distinta. Favor de verificar',\n",
              " 'El numero de motor del vehiculo es distinto. Favor de verificar',\n",
              " 'La Credencial para Votar es vigente']"
            ]
          },
          "execution_count": 31,
          "metadata": {},
          "output_type": "execute_result"
        }
      ],
      "source": [
        "chain.invoke(\n",
        "    input={\n",
        "        \"factura\": image1_path,\n",
        "        \"tc\": image2_path,\n",
        "        \"ine\": image3_path,\n",
        "    }\n",
        ")"
      ]
    },
    {
      "cell_type": "markdown",
      "id": "1589b37b",
      "metadata": {},
      "source": [
        "## Caso 3"
      ]
    },
    {
      "cell_type": "code",
      "execution_count": 32,
      "id": "2ca872a3",
      "metadata": {},
      "outputs": [
        {
          "data": {
            "text/plain": [
              "['El nombre del propietario es correcto!',\n",
              " 'El NIV del vehiculo es correcto!',\n",
              " 'El numero de serie del motor es correcto!',\n",
              " 'La marca del vehiculo es distinto. Favor de verificar',\n",
              " 'La linea del vehiculo es distinta. Favor de verificar',\n",
              " 'El numero de motor del vehiculo es distinto. Favor de verificar',\n",
              " 'La Credencial para Votar es vigente']"
            ]
          },
          "execution_count": 32,
          "metadata": {},
          "output_type": "execute_result"
        }
      ],
      "source": [
        "chain.invoke(\n",
        "    input={\n",
        "        \"factura\": './data/bronze/BASE_AUTOAVANZA/documentos_clean/FAC_FRENTE/Caso 3_TK 63140-1 FAC_FRENTE_otsu.jpg',\n",
        "        \"tc\": './data/bronze/BASE_AUTOAVANZA/documentos_clean/TC_FRENTE/Caso 3_TK 63140-5 TC_FRENTE_crop_binary.jpg',\n",
        "        \"ine\": './data/bronze/BASE_AUTOAVANZA/documentos_clean/INE_FRENTE/Caso 3_TK 63140-3 INE_FRENTE_crop_binary.jpg',\n",
        "    }\n",
        ")"
      ]
    },
    {
      "cell_type": "markdown",
      "id": "a2271ea8",
      "metadata": {},
      "source": [
        "## Caso 4"
      ]
    },
    {
      "cell_type": "code",
      "execution_count": 33,
      "id": "d2436398",
      "metadata": {},
      "outputs": [
        {
          "data": {
            "text/plain": [
              "['El nombre del propietario es correcto!',\n",
              " 'El NIV del vehiculo es correcto!',\n",
              " 'El numero de serie del motor es correcto!',\n",
              " 'La linea del vehiculo es distinta. Favor de verificar',\n",
              " 'El numero de motor es correcto!',\n",
              " 'La Credencial para Votar es vigente']"
            ]
          },
          "execution_count": 33,
          "metadata": {},
          "output_type": "execute_result"
        }
      ],
      "source": [
        "chain.invoke(\n",
        "    input={\n",
        "        \"factura\": './data/bronze/BASE_AUTOAVANZA/documentos_clean/FAC_FRENTE/Caso 4_TK 63274-1 FAC_FRENTE_otsu.jpg',\n",
        "        \"tc\": './data/bronze/BASE_AUTOAVANZA/documentos_clean/TC_FRENTE/Caso 4_TK 63274-5 TC_FRENTE_crop_binary.jpg',\n",
        "        \"ine\": './data/bronze/BASE_AUTOAVANZA/documentos_clean/INE_FRENTE/Caso 4_TK 63274-3 INE_FRENTE_crop_binary.jpg',\n",
        "    }\n",
        ")"
      ]
    },
    {
      "cell_type": "markdown",
      "id": "62e3fe3b",
      "metadata": {},
      "source": [
        "## Caso 5"
      ]
    },
    {
      "cell_type": "code",
      "execution_count": 34,
      "id": "55194afb",
      "metadata": {},
      "outputs": [
        {
          "data": {
            "text/plain": [
              "['El nombre no aparece correctamente en los documentos',\n",
              " 'El NIV es distinto. Se tiene que rechazar el tramite!',\n",
              " 'El numero de serie del motor no coincide',\n",
              " 'La marca del vehiculo es distinto. Favor de verificar',\n",
              " 'La linea del vehiculo es distinta. Favor de verificar',\n",
              " 'El numero de motor del vehiculo es distinto. Favor de verificar',\n",
              " 'La Credencial para Votar no esta vigente']"
            ]
          },
          "execution_count": 34,
          "metadata": {},
          "output_type": "execute_result"
        }
      ],
      "source": [
        "chain.invoke(\n",
        "    input={\n",
        "        \"factura\": './data/bronze/BASE_AUTOAVANZA/documentos_clean/FAC_FRENTE/Caso 5_TK 63908-2 FAC_FRENTE_otsu.jpg',\n",
        "        \"tc\": './data/bronze/BASE_AUTOAVANZA/documentos_clean/INE_FRENTE/Caso 5_TK 63908-3 INE_FRENTE_crop_binary.jpg',\n",
        "        \"ine\": './data/bronze/BASE_AUTOAVANZA/documentos_clean/TC_FRENTE/Caso 5_TK 63908-5 TC_FRENTE_crop_binary.jpg',\n",
        "    }\n",
        ")"
      ]
    }
  ],
  "metadata": {
    "colab": {
      "provenance": []
    },
    "kernelspec": {
      "display_name": ".venv",
      "language": "python",
      "name": "python3"
    },
    "language_info": {
      "codemirror_mode": {
        "name": "ipython",
        "version": 3
      },
      "file_extension": ".py",
      "mimetype": "text/x-python",
      "name": "python",
      "nbconvert_exporter": "python",
      "pygments_lexer": "ipython3",
      "version": "3.10.18"
    }
  },
  "nbformat": 4,
  "nbformat_minor": 5
}
