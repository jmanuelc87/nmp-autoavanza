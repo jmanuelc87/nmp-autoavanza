{
  "cells": [
    {
      "cell_type": "markdown",
      "id": "ac7d8535",
      "metadata": {
        "id": "ac7d8535"
      },
      "source": [
        "<a target=\"_blank\" href=\"https://colab.research.google.com/github/jmanuelc87/nmp-autoavanza/blob/main/notebooks/MontePiedad_Rules.ipynb\">\n",
        "  <img src=\"https://colab.research.google.com/assets/colab-badge.svg\" alt=\"Open In Colab\"/>\n",
        "</a>"
      ]
    },
    {
      "cell_type": "markdown",
      "id": "c8d2d1c5",
      "metadata": {},
      "source": [
        "### Imports and Definitions"
      ]
    },
    {
      "cell_type": "code",
      "execution_count": 42,
      "id": "DioCF2bZqjev",
      "metadata": {
        "id": "DioCF2bZqjev"
      },
      "outputs": [],
      "source": [
        "import os\n",
        "import dotenv\n",
        "import base64\n",
        "import datetime\n",
        "import itertools\n",
        "import functools\n",
        "\n",
        "from pydantic import BaseModel, Field\n",
        "\n",
        "from operator import itemgetter\n",
        "\n",
        "from rapidfuzz import fuzz, utils\n",
        "\n",
        "from langchain_core.tools import tool\n",
        "from langchain_core.output_parsers import PydanticToolsParser\n",
        "from langchain_core.prompts import ChatPromptTemplate\n",
        "from langchain_core.runnables import RunnableLambda, RunnablePassthrough, RunnableParallel, RunnablePick\n",
        "from langchain_openai import ChatOpenAI\n",
        "from langchain_community.document_loaders.image import UnstructuredImageLoader"
      ]
    },
    {
      "cell_type": "code",
      "execution_count": 43,
      "id": "f4bd60f7",
      "metadata": {},
      "outputs": [],
      "source": [
        "env = dotenv.find_dotenv()\n",
        "enable_open_ai = False"
      ]
    },
    {
      "cell_type": "code",
      "execution_count": 44,
      "id": "fe40e5d7",
      "metadata": {},
      "outputs": [],
      "source": [
        "if enable_open_ai:\n",
        "    os.environ[\"OPENAI_ORG_ID\"] = dotenv.get_key(env, \"org_id\")\n",
        "    os.environ[\"OPENAI_PROJECT_ID\"] = dotenv.get_key(env, \"proj_id\")\n",
        "    os.environ[\"OPENAI_API_KEY\"] = dotenv.get_key(env, \"api_key\")\n",
        "else:\n",
        "    os.environ[\"OPENAI_ORG_ID\"] = \"***\"\n",
        "    os.environ[\"OPENAI_PROJECT_ID\"] = \"***\"\n",
        "    os.environ[\"OPENAI_API_KEY\"] = \"***\"\n",
        "\n",
        "os.environ[\"LANGSMITH_TRACING\"] = \"true\"\n",
        "os.environ[\"LANGSMITH_ENDPOINT\"] = \"https://api.smith.langchain.com\"\n",
        "os.environ[\"LANGSMITH_API_KEY\"] = dotenv.get_key(env, \"langsmith_api_key\")\n",
        "os.environ[\"LANGSMITH_PROJECT\"] = \"pr-husky-stencil-39\""
      ]
    },
    {
      "cell_type": "code",
      "execution_count": 45,
      "id": "88349324",
      "metadata": {},
      "outputs": [],
      "source": [
        "llm = ChatOpenAI(\n",
        "    model=\"*\",\n",
        "    # model = \"gpt-4.1-mini\",\n",
        "    temperature=0,\n",
        "    base_url='http://localhost:1234/v1',\n",
        ")"
      ]
    },
    {
      "cell_type": "code",
      "execution_count": 46,
      "id": "5205267a",
      "metadata": {},
      "outputs": [],
      "source": [
        "extract = [\n",
        "    {\n",
        "        \"role\": \"system\",\n",
        "        \"content\": \"Eres un asistente servicial, usando OCR extraes los attributos que se te indiquen de la imagen y verificas que sean correctos comparandolo con el documento {doc_name}.\",\n",
        "    },\n",
        "    {\n",
        "        \"role\": \"user\",\n",
        "        \"content\": [\n",
        "            {\"type\": \"image_url\", \"image_url\": {\"url\": \"data:image/jpg;base64,{image}\"}},\n",
        "            {\"type\": \"text\", \"text\": \"El documento {doc_name}: {page_content}\"},\n",
        "        ],\n",
        "    },\n",
        "]"
      ]
    },
    {
      "cell_type": "code",
      "execution_count": 47,
      "id": "3447f2ca",
      "metadata": {},
      "outputs": [],
      "source": [
        "def load_image(inputs):\n",
        "    \"\"\"Load image from file and encode it as base64.\"\"\"\n",
        "    image_path = inputs[\"filename\"]\n",
        "  \n",
        "    def encode_image(image_path):\n",
        "        with open(image_path, \"rb\") as image_file:\n",
        "            return base64.b64encode(image_file.read()).decode('utf-8')\n",
        "    image_base64 = encode_image(image_path)\n",
        "    return image_base64"
      ]
    },
    {
      "cell_type": "code",
      "execution_count": 48,
      "id": "ca88e42a",
      "metadata": {},
      "outputs": [],
      "source": [
        "def load_unstructured_image(args):\n",
        "    loader = UnstructuredImageLoader(args[\"filename\"])\n",
        "    data = loader.load()\n",
        "    return data.pop().page_content"
      ]
    },
    {
      "cell_type": "code",
      "execution_count": 49,
      "id": "55d728b3",
      "metadata": {},
      "outputs": [],
      "source": [
        "loader1 = RunnableLambda(load_unstructured_image)\n",
        "loader2 = RunnableLambda(load_image)"
      ]
    },
    {
      "cell_type": "markdown",
      "id": "8c65393e",
      "metadata": {},
      "source": [
        "### Extraccion Factura"
      ]
    },
    {
      "cell_type": "code",
      "execution_count": 50,
      "id": "2f5b86ff",
      "metadata": {},
      "outputs": [],
      "source": [
        "file_url = \"https://drive.google.com/file/d/1jumrzIoMQ4VJS2kCl_1E-_4bOOMlYmU6/view?usp=drive_link\"\n",
        "image_url = \"https://drive.google.com/uc?export=download&id=1jumrzIoMQ4VJS2kCl_1E-_4bOOMlYmU6\"\n",
        "image1_path = \"./data/bronze/BASE_AUTOAVANZA/documentos_clean/FAC_FRENTE/Caso 1_TK 62853-1 FAC_FRENTE_otsu.jpg\""
      ]
    },
    {
      "cell_type": "code",
      "execution_count": 51,
      "id": "448b416b",
      "metadata": {},
      "outputs": [],
      "source": [
        "prompt_extraction = ChatPromptTemplate(messages=extract)"
      ]
    },
    {
      "cell_type": "code",
      "execution_count": 52,
      "id": "bef62df1",
      "metadata": {},
      "outputs": [],
      "source": [
        "class Factura(BaseModel):\n",
        "    nombre_cliente: str = Field(description=\"El nombre del cliente\")\n",
        "    marca: str = Field(description=\"La marca\")\n",
        "    linea: str = Field(description=\"La linea\")\n",
        "    modelo: int = Field(description=\"El modelo\")\n",
        "    clase: str = Field(description=\"La clase\")\n",
        "    tipo: str = Field(description=\"El tipo\")\n",
        "    combustible: str = Field(description=\"El tipo de combustible\")\n",
        "    no_serie: str = Field(description=\"El numero de serie, NIV o VIN\")\n",
        "    no_motor: str = Field(description=\"El numero de motor\")"
      ]
    },
    {
      "cell_type": "code",
      "execution_count": 53,
      "id": "857f8da2",
      "metadata": {},
      "outputs": [],
      "source": [
        "llm_with_fac_structured_output = llm.with_structured_output(Factura)"
      ]
    },
    {
      "cell_type": "code",
      "execution_count": 54,
      "id": "3f41ba78",
      "metadata": {},
      "outputs": [],
      "source": [
        "extract_fac_chain = (\n",
        "    {\n",
        "        \"page_content\": loader1,\n",
        "        \"image\": loader2,\n",
        "        \"doc_name\": itemgetter(\"doc_name\"),\n",
        "    }\n",
        "    | prompt_extraction\n",
        "    | llm_with_fac_structured_output\n",
        ")"
      ]
    },
    {
      "cell_type": "code",
      "execution_count": 55,
      "id": "8cf348f9",
      "metadata": {},
      "outputs": [],
      "source": [
        "# factura1 = extract_fac_chain.invoke(input={\n",
        "#     \"filename\": image1_path,\n",
        "#     \"doc_name\": \"Factura\",\n",
        "# })"
      ]
    },
    {
      "cell_type": "code",
      "execution_count": 56,
      "id": "3150d987",
      "metadata": {},
      "outputs": [],
      "source": [
        "# print(factura1)"
      ]
    },
    {
      "cell_type": "markdown",
      "id": "6dde6f24",
      "metadata": {},
      "source": [
        "### Extraccion Tarjeta de Circulacion"
      ]
    },
    {
      "cell_type": "code",
      "execution_count": 57,
      "id": "279bef9c",
      "metadata": {},
      "outputs": [],
      "source": [
        "file_url = \"https://drive.google.com/file/d/1MeG8nX0r9eOkAK5xH0oN4z330WQDnYMk/view?usp=drive_link\"\n",
        "image_url = \"https://drive.google.com/uc?export=download&id=1MeG8nX0r9eOkAK5xH0oN4z330WQDnYMk\"\n",
        "image2_path = \"./data/bronze/BASE_AUTOAVANZA/documentos_clean/TC_FRENTE/Caso 1_TK 62853-4 TC_FRENTE_clean.jpg\""
      ]
    },
    {
      "cell_type": "code",
      "execution_count": 58,
      "id": "031c689e",
      "metadata": {},
      "outputs": [],
      "source": [
        "class TarjetaCirculacion(BaseModel):\n",
        "    propietario: str = Field(description=\"El propietario o nombre del cliente\")\n",
        "    vehiculo: str = Field(description=\"El tipo de vehiculo\")\n",
        "    marca: str = Field(description=\"La marca\")\n",
        "    modelo: int = Field(description=\"El modelo del vehiculo\")\n",
        "    no_motor: str = Field(description=\"El numero de serie del motor\")\n",
        "    no_niv: str = Field(description=\"El numero de identificacion vehicular\")\n",
        "    expedicion: str = Field(description=\"La fecha de expedicion\")\n",
        "    vigencia: str = Field(description=\"La fecha de vigencia\")\n",
        "    placa: str = Field(description=\"El numero de placa\")"
      ]
    },
    {
      "cell_type": "code",
      "execution_count": 59,
      "id": "0493e3d6",
      "metadata": {},
      "outputs": [],
      "source": [
        "llm_with_tc_structured_output = llm.with_structured_output(TarjetaCirculacion)"
      ]
    },
    {
      "cell_type": "code",
      "execution_count": 60,
      "id": "83ccdd4b",
      "metadata": {},
      "outputs": [],
      "source": [
        "extract_tc_chain = (\n",
        "    {\n",
        "        \"page_content\": loader1,\n",
        "        \"image\": loader2,\n",
        "        \"doc_name\": itemgetter('doc_name'),\n",
        "    }\n",
        "    | prompt_extraction\n",
        "    | llm_with_tc_structured_output\n",
        ")"
      ]
    },
    {
      "cell_type": "code",
      "execution_count": 61,
      "id": "6bdb3984",
      "metadata": {},
      "outputs": [],
      "source": [
        "# tc1 = extract_tc_chain.invoke(input={\n",
        "#     \"filename\": image2_path,\n",
        "#     \"doc_name\": \"Tarjeta de Circulacion\",\n",
        "# })"
      ]
    },
    {
      "cell_type": "code",
      "execution_count": 62,
      "id": "e238dca0",
      "metadata": {},
      "outputs": [],
      "source": [
        "# print(tc1)"
      ]
    },
    {
      "cell_type": "markdown",
      "id": "5506a839",
      "metadata": {},
      "source": [
        "### Extraccion INE"
      ]
    },
    {
      "cell_type": "code",
      "execution_count": 63,
      "id": "2965e996",
      "metadata": {},
      "outputs": [],
      "source": [
        "file_url = \"https://drive.google.com/file/d/1UKl8M0aMXJqN74iRPL9HFki8UvAdppa1/view?usp=drive_link\"\n",
        "image_url = \"https://drive.google.com/uc?export=download&id=1UKl8M0aMXJqN74iRPL9HFki8UvAdppa1\"\n",
        "image3_path = \"./data/bronze/BASE_AUTOAVANZA/Caso 1/TK 62853-2 INE_FRENTE.png\""
      ]
    },
    {
      "cell_type": "code",
      "execution_count": 64,
      "id": "4587930f",
      "metadata": {},
      "outputs": [],
      "source": [
        "class CredencialVotar(BaseModel):\n",
        "    nombre: str = Field(description=\"El nombre de la persona\")\n",
        "    domicilio: str = Field(description=\"El domicilio de la persona\")\n",
        "    emision: int = Field(description=\"La fecha de emision\")\n",
        "    vigencia: int = Field(description=\"La fecha de vigencia\")"
      ]
    },
    {
      "cell_type": "code",
      "execution_count": 65,
      "id": "6c4cec40",
      "metadata": {},
      "outputs": [],
      "source": [
        "llm_with_ine_structured_output = llm.with_structured_output(CredencialVotar)"
      ]
    },
    {
      "cell_type": "code",
      "execution_count": 66,
      "id": "736b8874",
      "metadata": {},
      "outputs": [],
      "source": [
        "extract_ine_chain = (\n",
        "    {\n",
        "        \"page_content\": loader1,\n",
        "        \"image\": loader2,\n",
        "        \"doc_name\": itemgetter('doc_name'),\n",
        "    }\n",
        "    | prompt_extraction\n",
        "    | llm_with_ine_structured_output\n",
        ")"
      ]
    },
    {
      "cell_type": "code",
      "execution_count": 67,
      "id": "dfba0e9b",
      "metadata": {},
      "outputs": [],
      "source": [
        "# ine1 = extract_ine_chain.invoke(input={\n",
        "#     \"filename\": image3_path,\n",
        "#     \"doc_name\": \"Credencial para Votar\",\n",
        "# })"
      ]
    },
    {
      "cell_type": "code",
      "execution_count": 68,
      "id": "210a6e13",
      "metadata": {},
      "outputs": [],
      "source": [
        "# print(ine1)"
      ]
    },
    {
      "cell_type": "markdown",
      "id": "43001e28",
      "metadata": {},
      "source": [
        "# Reglas para validar documentos"
      ]
    },
    {
      "cell_type": "markdown",
      "id": "9edf6268",
      "metadata": {},
      "source": [
        "Se definen ciertas reglas para validar documentos como se especifica a continuacion."
      ]
    },
    {
      "cell_type": "markdown",
      "id": "fa963995",
      "metadata": {},
      "source": [
        "1. Se debe verificar la coincidencia del nombre del solicitante en la INE, Tarjeta de circulacion y Factura."
      ]
    },
    {
      "cell_type": "code",
      "execution_count": 69,
      "id": "b99fd15f",
      "metadata": {},
      "outputs": [],
      "source": [
        "def compare_doc_names(factura: Factura, tarjeta_circulacion: TarjetaCirculacion, credencial_votar: CredencialVotar) -> str:\n",
        "    \"\"\"Compara el propietario o nombre en los documentos Factura, Tarjeta de Circulacion y Credencial para Votar\n",
        "\n",
        "    Args:\n",
        "        factura (Factura): La factura del vehiculo\n",
        "        tarjeta_circulacion (TarjetaCirculacion): La Tarjeta de circulacion\n",
        "        credencial_votar (CredencialVotar): La Credencial para Votar\n",
        "\n",
        "    Returns:\n",
        "        str: El resultado de la validacion es aprovado o rechazado \n",
        "    \"\"\"\n",
        "    wr1 = fuzz.WRatio(factura['nombre_cliente'], tarjeta_circulacion['propietario'], processor=utils.default_process)\n",
        "    wr2 = fuzz.WRatio(factura['nombre_cliente'], credencial_votar['nombre'], processor=utils.default_process)\n",
        "    wr3 = fuzz.WRatio(tarjeta_circulacion['propietario'], credencial_votar['nombre'], processor=utils.default_process)\n",
        "\n",
        "    if wr1 >= 90. and wr2 >= 90. and wr3 >= 90.:\n",
        "        return \"El nombre del propietario es correcto!\"\n",
        "    elif 70. <= wr1 < 90. and 70. <= wr2 < 90. and 70. <= wr3 < 90.:\n",
        "        return \"Favor de verificar que el nombre aparezca correctamente en los tres documentos\"\n",
        "    else:\n",
        "        return \"El nombre no aparece correctamente en los documentos\""
      ]
    },
    {
      "cell_type": "markdown",
      "id": "25a07fcf",
      "metadata": {},
      "source": [
        "2. Se debe verificar el NIV es el mismo en la tarjeta de circulación y factura"
      ]
    },
    {
      "cell_type": "code",
      "execution_count": 70,
      "id": "94c87034",
      "metadata": {},
      "outputs": [],
      "source": [
        "def compare_vin(factura: Factura, tc:TarjetaCirculacion) -> str:\n",
        "    \"\"\"Compara el numero de serie, NIV o VIN en la factura y tarjeta de circulacion\n",
        "\n",
        "    Args:\n",
        "        factura (Factura): La Factura\n",
        "        tc (TarjetaCirculacion): La Tarjeta de Circulacion\n",
        "\n",
        "    Returns:\n",
        "        str: El resultado de la validacion es aprovado o rechazado\n",
        "    \"\"\"\n",
        "\n",
        "    wr = fuzz.WRatio(factura['no_serie'], tc['no_niv'])\n",
        "\n",
        "    result = []\n",
        "\n",
        "    if wr >= 90.:\n",
        "        result.append(\"El NIV del vehiculo es correcto!\")\n",
        "    else:\n",
        "        result.append(\"El NIV es distinto. Se tiene que rechazar el tramite!\")\n",
        "\n",
        "    wr2 = fuzz.WRatio(factura['no_motor'], tc['no_motor'])\n",
        "\n",
        "    if wr >= 90.:\n",
        "        result.append(\"El numero de serie del motor es correcto!\")\n",
        "    else:\n",
        "        result.append(\"El numero de serie del motor no coincide\")\n",
        "\n",
        "    return result"
      ]
    },
    {
      "cell_type": "markdown",
      "id": "6c8bec05",
      "metadata": {},
      "source": [
        "3. Se debe comparar los datos del vehiculo (marca, linea y modelo) en la tarjeta de circulacion y factura"
      ]
    },
    {
      "cell_type": "code",
      "execution_count": 71,
      "id": "830379b6",
      "metadata": {},
      "outputs": [],
      "source": [
        "def compare_vehicle_data(factura: Factura, tc: TarjetaCirculacion) -> str:\n",
        "    \"\"\"Compara la marca, linea y modelo del vehiculo en la factura y tarjeta de circulacion\n",
        "\n",
        "    Args:\n",
        "        factura (Factura): La Factura\n",
        "        tc (TarjetaCirculacion): La Tarjeta de Circulacion\n",
        "\n",
        "    Returns:\n",
        "        str: El resultado de la validacion es aprovado o rechazado\n",
        "    \"\"\"\n",
        "    result = []\n",
        "\n",
        "    wr = fuzz.WRatio(factura[\"marca\"], tc[\"marca\"])\n",
        "\n",
        "    if wr < 90.0:\n",
        "        label = f\"La marca del vehiculo es distinto. Favor de verificar\"\n",
        "        result.append(label)\n",
        "\n",
        "    wr = fuzz.WRatio(factura['linea'], tc['vehiculo'])\n",
        "\n",
        "    if wr < 90.0:\n",
        "        label = \"La linea del vehiculo es distinta. Favor de verificar\"\n",
        "        result.append(label)\n",
        "\n",
        "    wr = fuzz.WRatio(str(factura['modelo']), str(tc['modelo']))\n",
        "\n",
        "    if wr < 90.0:\n",
        "        label = \"El modelo del vehiculo es distinto. Favor de verificar\"\n",
        "        result.append(label)\n",
        "\n",
        "    if len(result) == 0:\n",
        "        result.append(\"Los datos del vehiculo son correctos!\")\n",
        "\n",
        "    return result"
      ]
    },
    {
      "cell_type": "markdown",
      "id": "61129a51",
      "metadata": {},
      "source": [
        "9. Se debe verificar el numero de motor contra la tarjeta de circulacion"
      ]
    },
    {
      "cell_type": "code",
      "execution_count": 72,
      "id": "bf5505c6",
      "metadata": {},
      "outputs": [],
      "source": [
        "def compare_motor(factura: Factura, tc: TarjetaCirculacion) -> str:\n",
        "    \"\"\"Compara el motor en la Factura y Tarjeta de Circulacion\n",
        "\n",
        "    Args:\n",
        "        factura (Factura): La Factura\n",
        "        tc (TarjetaCirculacion): La Tarjeta de Circulacion\n",
        "\n",
        "    Returns:\n",
        "        str: El resultado de la validacion es approvado o rechazado\n",
        "    \"\"\"\n",
        "    wr = fuzz.WRatio(factura.no_motor, tc.no_motor)\n",
        "    \n",
        "    if wr < 90.0:\n",
        "        return \"El numero de motor del vehiculo es distinto. Favor de verificar\"\n",
        "    \n",
        "    return \"El numero de motor es correcto!\""
      ]
    },
    {
      "cell_type": "code",
      "execution_count": 73,
      "id": "055475fe",
      "metadata": {},
      "outputs": [],
      "source": [
        "def check_validity(ine: CredencialVotar) -> str:\n",
        "    \"\"\"Verfica la validez de la credencial para votar\n",
        "\n",
        "    Args:\n",
        "        ine (CredencialVotar): La credencial para votar\n",
        "\n",
        "    Returns:\n",
        "        str: El resultado de la validacion es approvador o rechazado\n",
        "    \"\"\"\n",
        "    current_year = datetime.datetime.now().year\n",
        "    if current_year > ine['vigencia']:\n",
        "        return \"La Credencial para Votar no esta vigente\"\n",
        "    return \"La Credencial para Votar es vigente\""
      ]
    },
    {
      "cell_type": "code",
      "execution_count": 74,
      "id": "91bcb49c",
      "metadata": {},
      "outputs": [],
      "source": [
        "validate = [\n",
        "    {\n",
        "        \"role\": \"system\",\n",
        "        \"content\": \"Eres un asistente servicial.\",\n",
        "    },\n",
        "    {\n",
        "        \"role\": \"user\",\n",
        "        \"content\": [\n",
        "            {\"type\": \"text\", \"text\":\"Realiza {comparation} en los documentos\\n\\n\"},\n",
        "            {\"type\": \"text\", \"text\":\"La Factura: {factura}\\n\\n\"},\n",
        "            {\"type\": \"text\", \"text\":\"La Tarjeta de Circulacion: {tarjeta_circulacion}\\n\\n\"},\n",
        "            {\"type\": \"text\", \"text\":\"La Credencial para Votar: {credencial_votar}\"},\n",
        "        ],\n",
        "    }\n",
        "]"
      ]
    },
    {
      "cell_type": "code",
      "execution_count": 75,
      "id": "2cbb598d",
      "metadata": {},
      "outputs": [],
      "source": [
        "validate_prompt = ChatPromptTemplate.from_messages(validate)"
      ]
    },
    {
      "cell_type": "code",
      "execution_count": 76,
      "id": "e9f94601",
      "metadata": {},
      "outputs": [],
      "source": [
        "tools=[compare_doc_names, compare_vin, compare_vehicle_data, check_validity]"
      ]
    },
    {
      "cell_type": "code",
      "execution_count": 77,
      "id": "187a7672",
      "metadata": {},
      "outputs": [],
      "source": [
        "llm_with_tools = llm.bind_tools(tools=tools)"
      ]
    },
    {
      "cell_type": "code",
      "execution_count": null,
      "id": "41f4365f",
      "metadata": {},
      "outputs": [],
      "source": [
        "validations = [\n",
        "    \"la comparacion propietario o nombre de cliente\",\n",
        "    \"la comparacion del numero de serie, VIN o NIV\",\n",
        "    \"la comparacion de la marca, linea y modelo del vehiculo\",\n",
        "    \"la verficacion de la validez de la credencial para votar\"\n",
        "]"
      ]
    },
    {
      "cell_type": "code",
      "execution_count": 79,
      "id": "aa05c1c2",
      "metadata": {},
      "outputs": [],
      "source": [
        "def validate_documents(inputs, validations, tools):\n",
        "\n",
        "    chain = validate_prompt | llm_with_tools | PydanticToolsParser(tools=tools)\n",
        "\n",
        "    for comparation in validations:\n",
        "        result = chain.invoke(\n",
        "            input={\n",
        "                \"comparation\": comparation,\n",
        "                **inputs\n",
        "            }\n",
        "        )\n",
        "\n",
        "        if isinstance(result[0], list):\n",
        "            result = list(itertools.chain.from_iterable(result))\n",
        "\n",
        "        yield result"
      ]
    },
    {
      "cell_type": "code",
      "execution_count": 80,
      "id": "1c834287",
      "metadata": {},
      "outputs": [],
      "source": [
        "validation = RunnableLambda(functools.partial(validate_documents, validations=validations, tools=tools))"
      ]
    },
    {
      "cell_type": "code",
      "execution_count": 81,
      "id": "ae3a4916",
      "metadata": {},
      "outputs": [],
      "source": [
        "chain = {\n",
        "    \"factura\": {\n",
        "        \"filename\": itemgetter(\"factura\"),\n",
        "        \"doc_name\": lambda x: \"Factura\",\n",
        "    }\n",
        "    | extract_fac_chain,\n",
        "    \"tarjeta_circulacion\": {\n",
        "        \"filename\": itemgetter(\"tc\"),\n",
        "        \"doc_name\": lambda x: \"Tarjeta de Circulacion\",\n",
        "    }\n",
        "    | extract_tc_chain,\n",
        "    \"credencial_votar\": {\n",
        "        \"filename\": itemgetter(\"ine\"),\n",
        "        \"doc_name\": lambda x: \"Credencial para Votar\"\n",
        "    }\n",
        "    | extract_ine_chain,\n",
        "} | validation"
      ]
    },
    {
      "cell_type": "code",
      "execution_count": 82,
      "id": "1e1f4f79",
      "metadata": {},
      "outputs": [
        {
          "name": "stdout",
          "output_type": "stream",
          "text": [
            "['El nombre del propietario es correcto!']\n",
            "['El NIV del vehiculo es correcto!', 'El numero de serie del motor es correcto!']\n",
            "['Los datos del vehiculo son correctos!']\n",
            "['El nombre del propietario es correcto!']\n"
          ]
        }
      ],
      "source": [
        "for e in chain.stream({\n",
        "    \"factura\": image1_path,\n",
        "    \"tc\": image2_path,\n",
        "    \"ine\": image3_path,\n",
        "}):\n",
        "    print(e)"
      ]
    }
  ],
  "metadata": {
    "colab": {
      "provenance": []
    },
    "kernelspec": {
      "display_name": ".venv",
      "language": "python",
      "name": "python3"
    },
    "language_info": {
      "codemirror_mode": {
        "name": "ipython",
        "version": 3
      },
      "file_extension": ".py",
      "mimetype": "text/x-python",
      "name": "python",
      "nbconvert_exporter": "python",
      "pygments_lexer": "ipython3",
      "version": "3.10.16"
    }
  },
  "nbformat": 4,
  "nbformat_minor": 5
}
