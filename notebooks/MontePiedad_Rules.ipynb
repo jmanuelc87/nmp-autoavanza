{
  "cells": [
    {
      "cell_type": "markdown",
      "id": "ac7d8535",
      "metadata": {
        "id": "ac7d8535"
      },
      "source": [
        "<a target=\"_blank\" href=\"https://colab.research.google.com/github/jmanuelc87/nmp-autoavanza/blob/main/notebooks/MontePiedad_Rules.ipynb\">\n",
        "  <img src=\"https://colab.research.google.com/assets/colab-badge.svg\" alt=\"Open In Colab\"/>\n",
        "</a>"
      ]
    },
    {
      "cell_type": "code",
      "execution_count": 74,
      "id": "DioCF2bZqjev",
      "metadata": {
        "id": "DioCF2bZqjev"
      },
      "outputs": [],
      "source": [
        "import os\n",
        "import base64\n",
        "import functools\n",
        "\n",
        "from pydantic import BaseModel, Field\n",
        "\n",
        "from operator import itemgetter\n",
        "\n",
        "from langchain_core.tools import tool\n",
        "from langchain_core.output_parsers import PydanticToolsParser\n",
        "from langchain_core.prompts import ChatPromptTemplate\n",
        "from langchain_core.runnables.base import RunnableLambda\n",
        "from langchain_core.runnables.branch import RunnableBranch\n",
        "from langchain_openai import ChatOpenAI\n",
        "from langchain_community.document_loaders.image import UnstructuredImageLoader"
      ]
    },
    {
      "cell_type": "code",
      "execution_count": null,
      "id": "fe40e5d7",
      "metadata": {},
      "outputs": [],
      "source": [
        "if \"OPENAI_API_KEY\" not in os.environ:\n",
        "    os.environ['OPENAI_ORG_ID'] = '***'\n",
        "    os.environ['OPENAI_PROJECT_ID'] = '***'\n",
        "    os.environ['OPENAI_API_KEY'] = '***'"
      ]
    },
    {
      "cell_type": "code",
      "execution_count": 3,
      "id": "88349324",
      "metadata": {},
      "outputs": [],
      "source": [
        "llm = ChatOpenAI(\n",
        "    model=\"*\",\n",
        "    # model = \"gpt-4.1-mini\",\n",
        "    temperature=0,\n",
        "    base_url='http://localhost:1234/v1',\n",
        ")"
      ]
    },
    {
      "cell_type": "code",
      "execution_count": 4,
      "id": "5205267a",
      "metadata": {},
      "outputs": [],
      "source": [
        "extract = [\n",
        "    {\n",
        "        \"role\": \"system\",\n",
        "        \"content\": \"Eres un asistente servicial, usando OCR extraes los attributos que se te indiquen de la imagen y verificas que sean correctos comparandolo con el documento {doc_name}.\",\n",
        "    },\n",
        "    {\n",
        "        \"role\": \"user\",\n",
        "        \"content\": [\n",
        "            {\"type\": \"image_url\", \"image_url\": {\"url\": \"data:image/jpg;base64,{image}\"}},\n",
        "            {\"type\": \"text\", \"text\": \"El documento {doc_name}: {page_content}\"},\n",
        "        ],\n",
        "    },\n",
        "]"
      ]
    },
    {
      "cell_type": "code",
      "execution_count": 5,
      "id": "3447f2ca",
      "metadata": {},
      "outputs": [],
      "source": [
        "def load_image(inputs):\n",
        "    \"\"\"Load image from file and encode it as base64.\"\"\"\n",
        "    image_path = inputs[\"filename\"]\n",
        "  \n",
        "    def encode_image(image_path):\n",
        "        with open(image_path, \"rb\") as image_file:\n",
        "            return base64.b64encode(image_file.read()).decode('utf-8')\n",
        "    image_base64 = encode_image(image_path)\n",
        "    return image_base64"
      ]
    },
    {
      "cell_type": "code",
      "execution_count": 6,
      "id": "ca88e42a",
      "metadata": {},
      "outputs": [],
      "source": [
        "def load_unstructured_image(args):\n",
        "    loader = UnstructuredImageLoader(args[\"filename\"])\n",
        "    data = loader.load()\n",
        "    return data.pop().page_content"
      ]
    },
    {
      "cell_type": "code",
      "execution_count": 7,
      "id": "55d728b3",
      "metadata": {},
      "outputs": [],
      "source": [
        "loader1 = RunnableLambda(load_unstructured_image)\n",
        "loader2 = RunnableLambda(load_image)"
      ]
    },
    {
      "cell_type": "markdown",
      "id": "8c65393e",
      "metadata": {},
      "source": [
        "### Extraccion Factura"
      ]
    },
    {
      "cell_type": "code",
      "execution_count": 8,
      "id": "2f5b86ff",
      "metadata": {},
      "outputs": [],
      "source": [
        "file_url = \"https://drive.google.com/file/d/1jumrzIoMQ4VJS2kCl_1E-_4bOOMlYmU6/view?usp=drive_link\"\n",
        "image_url = \"https://drive.google.com/uc?export=download&id=1jumrzIoMQ4VJS2kCl_1E-_4bOOMlYmU6\"\n",
        "image1_path = \"./data/bronze/BASE_AUTOAVANZA/documentos_clean/FAC_FRENTE/Caso 1_TK 62853-1 FAC_FRENTE_otsu.jpg\""
      ]
    },
    {
      "cell_type": "code",
      "execution_count": 9,
      "id": "448b416b",
      "metadata": {},
      "outputs": [],
      "source": [
        "prompt_extraction = ChatPromptTemplate(messages=extract)"
      ]
    },
    {
      "cell_type": "code",
      "execution_count": 10,
      "id": "bef62df1",
      "metadata": {},
      "outputs": [],
      "source": [
        "class Factura(BaseModel):\n",
        "    nombre_cliente: str = Field(description=\"El nombre del cliente\")\n",
        "    niv: str = Field(description=\"El numero de serie, NIV o VIN del vehiculo\")\n",
        "    marca: str = Field(description=\"La marca del vehiculo\")\n",
        "    modelo: str = Field(description=\"El modelo del vehiculo\")\n",
        "    version: str = Field(description=\"La version del vehiculo\")\n",
        "    year: int = Field(description=\"El año del vehiculo\")\n",
        "    no_motor: str = Field(description=\"El numero de serie del motor\")"
      ]
    },
    {
      "cell_type": "code",
      "execution_count": 11,
      "id": "857f8da2",
      "metadata": {},
      "outputs": [],
      "source": [
        "llm_with_fac_structured_output = llm.with_structured_output(Factura)"
      ]
    },
    {
      "cell_type": "code",
      "execution_count": 12,
      "id": "08ec6a12",
      "metadata": {},
      "outputs": [],
      "source": [
        "def my_print(x):\n",
        "    print(\"data\", x)\n",
        "    return x"
      ]
    },
    {
      "cell_type": "code",
      "execution_count": 13,
      "id": "3f41ba78",
      "metadata": {},
      "outputs": [],
      "source": [
        "extract_fac_chain = (\n",
        "    {\n",
        "        \"page_content\": loader1,\n",
        "        \"image\": loader2,\n",
        "        \"doc_name\": itemgetter('doc_name'),\n",
        "    }\n",
        "    | prompt_extraction\n",
        "    | llm_with_fac_structured_output\n",
        ")"
      ]
    },
    {
      "cell_type": "code",
      "execution_count": 14,
      "id": "8cf348f9",
      "metadata": {},
      "outputs": [],
      "source": [
        "factura1 = extract_fac_chain.invoke(input={\n",
        "    \"filename\": image1_path,\n",
        "    \"doc_name\": \"Factura\",\n",
        "})"
      ]
    },
    {
      "cell_type": "code",
      "execution_count": 15,
      "id": "3150d987",
      "metadata": {},
      "outputs": [
        {
          "name": "stdout",
          "output_type": "stream",
          "text": [
            "nombre_cliente='RODRIGUEZ ELIZONDO FRANCISCO' niv='24108' marca='TOYOTA' modelo='HILUX' version='2019' year=2019 no_motor='MROEX8DD2K0186450'\n"
          ]
        }
      ],
      "source": [
        "print(factura1)"
      ]
    },
    {
      "cell_type": "markdown",
      "id": "6dde6f24",
      "metadata": {},
      "source": [
        "### Extraccion Tarjeta de Circulacion"
      ]
    },
    {
      "cell_type": "code",
      "execution_count": 16,
      "id": "279bef9c",
      "metadata": {},
      "outputs": [],
      "source": [
        "file_url = \"https://drive.google.com/file/d/1MeG8nX0r9eOkAK5xH0oN4z330WQDnYMk/view?usp=drive_link\"\n",
        "image_url = \"https://drive.google.com/uc?export=download&id=1MeG8nX0r9eOkAK5xH0oN4z330WQDnYMk\"\n",
        "image2_path = \"./data/bronze/BASE_AUTOAVANZA/documentos_clean/TC_FRENTE/Caso 1_TK 62853-4 TC_FRENTE_hsv_vchannel_clahe_adaptativo.jpg\""
      ]
    },
    {
      "cell_type": "code",
      "execution_count": 17,
      "id": "031c689e",
      "metadata": {},
      "outputs": [],
      "source": [
        "class TarjetaCirculacion(BaseModel):\n",
        "    nombre_cliente: str = Field(description=\"El nombre del cliente\")\n",
        "    vigencia: str = Field(description=\"La vigencia o fecha de vencimiento del documento\")\n",
        "    niv: str = Field(description=\"El numero de serie, NIV o VIN del vehiculo\")\n",
        "    placa: str = Field(description=\"El numero de placa del vehiculo\")\n",
        "    marca: str = Field(description=\"La marca del vehiculo\")\n",
        "    modelo: str = Field(description=\"El modelo del vehiculo\")\n",
        "    version: str = Field(description=\"La version del vehiculo\")\n",
        "    year: int = Field(description=\"El año del vehiculo\")\n",
        "    no_motor: str = Field(description=\"El numero de serie del motor\")"
      ]
    },
    {
      "cell_type": "code",
      "execution_count": 18,
      "id": "0493e3d6",
      "metadata": {},
      "outputs": [],
      "source": [
        "llm_with_tc_structured_output = llm.with_structured_output(TarjetaCirculacion)"
      ]
    },
    {
      "cell_type": "code",
      "execution_count": 19,
      "id": "83ccdd4b",
      "metadata": {},
      "outputs": [],
      "source": [
        "extract_tc_chain = (\n",
        "    {\n",
        "        \"page_content\": loader1,\n",
        "        \"image\": loader2,\n",
        "        \"doc_name\": itemgetter('doc_name'),\n",
        "    }\n",
        "    | prompt_extraction\n",
        "    | llm_with_tc_structured_output\n",
        ")"
      ]
    },
    {
      "cell_type": "code",
      "execution_count": 20,
      "id": "6bdb3984",
      "metadata": {},
      "outputs": [],
      "source": [
        "tc1 = extract_tc_chain.invoke(input={\n",
        "    \"filename\": image2_path,\n",
        "    \"doc_name\": \"Tarjeta de Circulacion\",\n",
        "})"
      ]
    },
    {
      "cell_type": "code",
      "execution_count": 21,
      "id": "e238dca0",
      "metadata": {},
      "outputs": [
        {
          "name": "stdout",
          "output_type": "stream",
          "text": [
            "nombre_cliente='FRANCISCO RODRIGUEZ ELIZONDO' vigencia='2019' niv='2TRA6018B6' placa='JW27321' marca='TOYOTA' modelo='HILUX 4 PUERTAS' version='PICK UP' year=2019 no_motor='MRDEXBDD2K0186450'\n"
          ]
        }
      ],
      "source": [
        "print(tc1)"
      ]
    },
    {
      "cell_type": "markdown",
      "id": "5506a839",
      "metadata": {},
      "source": [
        "### Extraccion INE"
      ]
    },
    {
      "cell_type": "code",
      "execution_count": 22,
      "id": "2965e996",
      "metadata": {},
      "outputs": [],
      "source": [
        "file_url = \"https://drive.google.com/file/d/1UKl8M0aMXJqN74iRPL9HFki8UvAdppa1/view?usp=drive_link\"\n",
        "image_url = \"https://drive.google.com/uc?export=download&id=1UKl8M0aMXJqN74iRPL9HFki8UvAdppa1\"\n",
        "image3_path = \"./data/bronze/BASE_AUTOAVANZA/documentos_clean/INE_FRENTE/Caso 1_TK 62853-2 INE_FRENTE_hsv_vchannel_clahe_adaptativo.jpg\""
      ]
    },
    {
      "cell_type": "code",
      "execution_count": 23,
      "id": "4587930f",
      "metadata": {},
      "outputs": [],
      "source": [
        "class CredencialVotar(BaseModel):\n",
        "    nombre: str = Field(description=\"El nombre de la persona\")\n",
        "    domicilio: str = Field(description=\"El domicilio de la persona\")\n",
        "    vigencia: str = Field(description=\"La vigencia de la credencial\")"
      ]
    },
    {
      "cell_type": "code",
      "execution_count": 24,
      "id": "6c4cec40",
      "metadata": {},
      "outputs": [],
      "source": [
        "llm_with_cv_structured_output = llm.with_structured_output(CredencialVotar)"
      ]
    },
    {
      "cell_type": "code",
      "execution_count": 25,
      "id": "736b8874",
      "metadata": {},
      "outputs": [],
      "source": [
        "extract_cv_chain = (\n",
        "    {\n",
        "        \"page_content\": loader1,\n",
        "        \"image\": loader2,\n",
        "        \"doc_name\": itemgetter('doc_name'),\n",
        "    }\n",
        "    | prompt_extraction\n",
        "    | llm_with_cv_structured_output\n",
        ")"
      ]
    },
    {
      "cell_type": "code",
      "execution_count": 26,
      "id": "dfba0e9b",
      "metadata": {},
      "outputs": [],
      "source": [
        "cv1 = extract_cv_chain.invoke(input={\n",
        "    \"filename\": image3_path,\n",
        "    \"doc_name\": \"Credencial para Votar\",\n",
        "})"
      ]
    },
    {
      "cell_type": "code",
      "execution_count": 27,
      "id": "210a6e13",
      "metadata": {},
      "outputs": [
        {
          "name": "stdout",
          "output_type": "stream",
          "text": [
            "nombre='Rodriguez Elizondo Francisco' domicilio='PRIV HIDALGO PONIENTE 548 INT.' vigencia='2018-2023'\n"
          ]
        }
      ],
      "source": [
        "print(cv1)"
      ]
    },
    {
      "cell_type": "markdown",
      "id": "43001e28",
      "metadata": {},
      "source": [
        "# Reglas para validar documentos"
      ]
    },
    {
      "cell_type": "markdown",
      "id": "9edf6268",
      "metadata": {},
      "source": [
        "Se definen ciertas reglas para validar documentos como se especifica a continuacion.\n",
        "\n",
        "Para la tc del Auto se debe cumplir con los requisitos de autenticidad y datos correctos.\n",
        " - Se debe verificar la coincidencia del nombre del solicitante en la INE, Tarjeta de circulacion y Factura.\n",
        " - Se debe verificar el VIN es el mismo en la tarjeta de circulación y factura\n",
        " - Se debe comparar los datos del vehiculo (marca, modelo, año y version) en la tarjeta de circulacion y factura"
      ]
    },
    {
      "cell_type": "code",
      "execution_count": 86,
      "id": "b99fd15f",
      "metadata": {},
      "outputs": [],
      "source": [
        "def compare_doc_names(factura: Factura, tc: TarjetaCirculacion, cv: CredencialVotar) -> str:\n",
        "    \"\"\"Compara el nombre del cliente en los documentos Factura, Tarjeta de Circulacion y Credencial para Votar\n",
        "\n",
        "    Args:\n",
        "        factura (Factura): La factura del vehiculo\n",
        "        tc (TarjetaCirculacion): La Tarjeta de circulacion\n",
        "        cv (CredencialVotar): La Credencial para votar\n",
        "\n",
        "    Returns:\n",
        "        str: El resultado de la validacion es aprovado o rechazado \n",
        "    \"\"\"\n",
        "    names1 = set(factura['nombre_cliente'].lower().split(' '))\n",
        "    names2 = set(tc['nombre_cliente'].lower().split(' '))\n",
        "    names3 = set(cv['nombre'].lower().split(' '))\n",
        "    names = [names1, names2, names3]\n",
        "    # check for reducing the complexity O(n^2) to O(n)\n",
        "    for i in range(3):\n",
        "        for n1 in names[i]:\n",
        "            # instead of using direct comparison test with a heuristic\n",
        "            if n1 not in names[(i+1) % 3] or n1 not in names[(i+2) % 3]:\n",
        "                return \"El nombre no aparece correctamente en los tres documentos\"\n",
        "    return \"Validado correctamente el nombre del cliente!\""
      ]
    },
    {
      "cell_type": "code",
      "execution_count": 87,
      "id": "94c87034",
      "metadata": {},
      "outputs": [],
      "source": [
        "def compare_doc_vin(factura: Factura, tc:TarjetaCirculacion) -> str:\n",
        "    \"\"\"Compara el numero de serie del vehiculo, NIV O VIN en la factura y tarjeta de circulacion\n",
        "\n",
        "    Args:\n",
        "        factura (Factura): La Factura\n",
        "        tc (TarjetaCirculacion): La Tarjeta de Circulacion\n",
        "\n",
        "    Returns:\n",
        "        str: El resultado de la validacion es aprovado o rechazado\n",
        "    \"\"\"\n",
        "    if factura['niv'] == tc['niv']:\n",
        "        return \"El NIV aparace correctamente.\"\n",
        "    return \"El NIV es distinto. Favor de verficar\""
      ]
    },
    {
      "cell_type": "code",
      "execution_count": 88,
      "id": "91bcb49c",
      "metadata": {},
      "outputs": [],
      "source": [
        "validate = [\n",
        "    {\n",
        "        \"role\": \"system\",\n",
        "        \"content\": \"Eres un asistente servicial.\",\n",
        "    },\n",
        "    {\n",
        "        \"role\": \"user\",\n",
        "        \"content\": [\n",
        "            {\"type\": \"text\", \"text\":\"La Factura\\n{factura}\\n\\n\"},\n",
        "            {\"type\": \"text\", \"text\":\"La Tarjeta de Circulacion\\n{tc}\\n\\n\"},\n",
        "            {\"type\": \"text\", \"text\":\"La Credencial para Votar\\n{cv}\\n\\n\"},\n",
        "            {\"type\": \"text\", \"text\":\"Realiza {comparation} documentos.\\n\"},\n",
        "        ],\n",
        "    }\n",
        "]"
      ]
    },
    {
      "cell_type": "code",
      "execution_count": 89,
      "id": "2cbb598d",
      "metadata": {},
      "outputs": [],
      "source": [
        "validate_prompt = ChatPromptTemplate.from_messages(validate)"
      ]
    },
    {
      "cell_type": "code",
      "execution_count": 90,
      "id": "187a7672",
      "metadata": {},
      "outputs": [],
      "source": [
        "llm_with_tools = llm.bind_tools([compare_doc_names, compare_doc_vin])"
      ]
    },
    {
      "cell_type": "code",
      "execution_count": 91,
      "id": "c6968534",
      "metadata": {},
      "outputs": [],
      "source": [
        "def my_print(x):\n",
        "    return x\n",
        "\n",
        "out = RunnableLambda(my_print)"
      ]
    },
    {
      "cell_type": "code",
      "execution_count": 92,
      "id": "41f4365f",
      "metadata": {},
      "outputs": [],
      "source": [
        "validations = [\"la comparacion del nombre del cliente\", \"la comparacion del numero de serie o VIN\"]"
      ]
    },
    {
      "cell_type": "code",
      "execution_count": 93,
      "id": "aa05c1c2",
      "metadata": {},
      "outputs": [],
      "source": [
        "def validate_documents(inputs, validations):\n",
        "    chain = validate_prompt | llm_with_tools | PydanticToolsParser(tools=[compare_doc_names, compare_doc_vin])\n",
        "\n",
        "    response = []\n",
        "\n",
        "    for validation in validations:\n",
        "        result = chain.invoke(input={\n",
        "            \"comparation\": validation,\n",
        "            **inputs,\n",
        "        })\n",
        "\n",
        "        response.extend(result)\n",
        "\n",
        "    return response"
      ]
    },
    {
      "cell_type": "code",
      "execution_count": 94,
      "id": "1c834287",
      "metadata": {},
      "outputs": [],
      "source": [
        "validation = RunnableLambda(functools.partial(validate_documents, validations=validations))"
      ]
    },
    {
      "cell_type": "code",
      "execution_count": 95,
      "id": "ae3a4916",
      "metadata": {},
      "outputs": [],
      "source": [
        "chain = {\n",
        "    \"factura\": {\n",
        "        \"filename\": itemgetter(\"factura\"),\n",
        "        \"doc_name\": lambda x: \"Factura\",\n",
        "    }\n",
        "    | extract_fac_chain,\n",
        "    \"tc\": {\n",
        "        \"filename\": itemgetter(\"tarjeta_circulacion\"),\n",
        "        \"doc_name\": lambda x: \"Tarjeta de Circulacion\",\n",
        "    }\n",
        "    | extract_tc_chain,\n",
        "    \"cv\": {\n",
        "        \"filename\": itemgetter(\"credencial_votar\"),\n",
        "        \"doc_name\": lambda x: \"Credencial para Votar\"\n",
        "    }\n",
        "    | extract_cv_chain,\n",
        "} | validation"
      ]
    },
    {
      "cell_type": "code",
      "execution_count": 96,
      "id": "1e1f4f79",
      "metadata": {},
      "outputs": [],
      "source": [
        "response = chain.invoke({\n",
        "    \"factura\": image1_path,\n",
        "    \"tarjeta_circulacion\": image2_path,\n",
        "    \"credencial_votar\": image3_path,\n",
        "})"
      ]
    },
    {
      "cell_type": "code",
      "execution_count": 97,
      "id": "9b4d2b33",
      "metadata": {},
      "outputs": [
        {
          "data": {
            "text/plain": [
              "['Validado correctamente el nombre del cliente!',\n",
              " 'El NIV es distinto. Favor de verficar']"
            ]
          },
          "execution_count": 97,
          "metadata": {},
          "output_type": "execute_result"
        }
      ],
      "source": [
        "response"
      ]
    }
  ],
  "metadata": {
    "colab": {
      "provenance": []
    },
    "kernelspec": {
      "display_name": ".venv",
      "language": "python",
      "name": "python3"
    },
    "language_info": {
      "codemirror_mode": {
        "name": "ipython",
        "version": 3
      },
      "file_extension": ".py",
      "mimetype": "text/x-python",
      "name": "python",
      "nbconvert_exporter": "python",
      "pygments_lexer": "ipython3",
      "version": "3.10.16"
    }
  },
  "nbformat": 4,
  "nbformat_minor": 5
}
