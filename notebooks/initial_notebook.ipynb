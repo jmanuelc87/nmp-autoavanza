{
  "cells": [
    {
      "cell_type": "markdown",
      "id": "ac7d8535",
      "metadata": {
        "id": "ac7d8535"
      },
      "source": [
        "<a target=\"_blank\" href=\"https://colab.research.google.com/github/jmanuelc87/nmp-autoavanza/blob/main/notebooks/initial_notebook.ipynb\">\n",
        "  <img src=\"https://colab.research.google.com/assets/colab-badge.svg\" alt=\"Open In Colab\"/>\n",
        "</a>"
      ]
    },
    {
      "cell_type": "code",
      "source": [],
      "metadata": {
        "id": "DioCF2bZqjev"
      },
      "id": "DioCF2bZqjev",
      "execution_count": null,
      "outputs": []
    },
    {
      "cell_type": "markdown",
      "source": [
        "RENATA"
      ],
      "metadata": {
        "id": "A_RijRasqvBD"
      },
      "id": "A_RijRasqvBD"
    },
    {
      "cell_type": "markdown",
      "id": "8d2a9643",
      "metadata": {
        "id": "8d2a9643"
      },
      "source": [
        "# Template Inicial"
      ]
    }
  ],
  "metadata": {
    "language_info": {
      "name": "python"
    },
    "colab": {
      "provenance": []
    }
  },
  "nbformat": 4,
  "nbformat_minor": 5
}